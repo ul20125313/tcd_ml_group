{
  "nbformat": 4,
  "nbformat_minor": 0,
  "metadata": {
    "colab": {
      "provenance": []
    },
    "kernelspec": {
      "name": "python3",
      "display_name": "Python 3"
    },
    "language_info": {
      "name": "python"
    }
  },
  "cells": [
    {
      "cell_type": "code",
      "execution_count": 210,
      "metadata": {
        "id": "2qKhyw0-1kXv"
      },
      "outputs": [],
      "source": [
        "import pandas as pd\n",
        "import numpy as np\n",
        "from sklearn.pipeline import Pipeline, make_pipeline, FeatureUnion\n",
        "from sklearn.compose import ColumnTransformer\n",
        "from sklearn.neighbors import KNeighborsClassifier\n",
        "from sklearn.base import BaseEstimator, TransformerMixin\n",
        "from sklearn.preprocessing import StandardScaler, RobustScaler, FunctionTransformer\n",
        "from sklearn.model_selection import train_test_split, GridSearchCV\n",
        "from sklearn import svm\n",
        "from sklearn.ensemble import RandomForestClassifier\n",
        "from sklearn.metrics import roc_curve, auc, accuracy_score, precision_recall_fscore_support\n",
        "#from scipy import interp\n",
        "import pickle\n",
        "import matplotlib.pyplot as plt\n",
        "import seaborn as sns\n",
        "from datetime import datetime as dt\n",
        "import itertools\n",
        "import warnings\n",
        "warnings.filterwarnings('ignore')\n",
        "%matplotlib inline"
      ]
    },
    {
      "cell_type": "markdown",
      "source": [
        "# Data Clean"
      ],
      "metadata": {
        "id": "6T2yg-sY5_-C"
      }
    },
    {
      "cell_type": "code",
      "source": [
        "#load all of the data\n",
        "raw_data = []\n",
        "raw_data.append(pd.read_csv('season-0910_csv.csv'))\n",
        "raw_data.append(pd.read_csv('season-1011_csv.csv'))\n",
        "raw_data.append(pd.read_csv('season-1112_csv.csv'))\n",
        "raw_data.append(pd.read_csv('season-1213_csv.csv'))\n",
        "raw_data.append(pd.read_csv('season-1314_csv.csv'))\n",
        "raw_data.append(pd.read_csv('season-1415_csv.csv'))\n",
        "raw_data.append(pd.read_csv('season-1516_csv.csv'))\n",
        "raw_data.append(pd.read_csv('season-1617_csv.csv'))\n",
        "raw_data.append(pd.read_csv('season-1718_csv.csv'))\n",
        "raw_data.append(pd.read_csv('season-1819_csv.csv'))\n",
        "#merge these data \n",
        "dataset = pd.DataFrame()\n",
        "for i in range(len(raw_data)):\n",
        "  dataset = dataset.append(raw_data[i], ignore_index = True)\n",
        "\n",
        "  \n",
        "columns_req = ['HomeTeam','AwayTeam','FTR','HC','AC','HST','AST','HY','AY','HR','AR']\n",
        "dataset = dataset[columns_req]"
      ],
      "metadata": {
        "id": "orVxVxRI1xRJ"
      },
      "execution_count": 211,
      "outputs": []
    },
    {
      "cell_type": "code",
      "source": [
        "sns.histplot(data = dataset, x=\"FTR\", shrink=.4)#check whether our data is balanced\n",
        "plt.show()"
      ],
      "metadata": {
        "colab": {
          "base_uri": "https://localhost:8080/",
          "height": 279
        },
        "id": "DeRiunstIfUh",
        "outputId": "5b077005-6fe7-4cc8-9aa9-68d53280d009"
      },
      "execution_count": 212,
      "outputs": [
        {
          "output_type": "display_data",
          "data": {
            "text/plain": [
              "<Figure size 432x288 with 1 Axes>"
            ],
            "image/png": "[encoded data removed]"
          },
          "metadata": {
            "needs_background": "light"
          }
        }
      ]
    },
    {
      "cell_type": "code",
      "source": [
        "mapping = {\"H\":1,\"D\":0,\"A\":0}\n",
        "dataset = dataset.replace(mapping)\n",
        "dataset = dataset.rename(columns = {\"FTR\":\"whether_home_wins\"})"
      ],
      "metadata": {
        "id": "cTPirajLE29x"
      },
      "execution_count": 213,
      "outputs": []
    },
    {
      "cell_type": "code",
      "source": [
        "sns.histplot(data = dataset,x=\"whether_home_wins\", shrink=.5) #check now whether it is balanced\n",
        "plt.show()"
      ],
      "metadata": {
        "colab": {
          "base_uri": "https://localhost:8080/",
          "height": 280
        },
        "id": "tc7HoBFbFw15",
        "outputId": "6566890b-632d-4559-d87d-1ac76676891e"
      },
      "execution_count": 214,
      "outputs": [
        {
          "output_type": "display_data",
          "data": {
            "text/plain": [
              "<Figure size 432x288 with 1 Axes>"
            ],
            "image/png": "[encoded data removed]"
          },
          "metadata": {
            "needs_background": "light"
          }
        }
      ]
    },
    {
      "cell_type": "code",
      "source": [
        "dataset"
      ],
      "metadata": {
        "colab": {
          "base_uri": "https://localhost:8080/",
          "height": 424
        },
        "id": "AZmVul8gVNdB",
        "outputId": "1c5c1430-e2c9-4dbb-dbd1-2bbf329de08c"
      },
      "execution_count": 215,
      "outputs": [
        {
          "output_type": "execute_result",
          "data": {
            "text/plain": [
              "         HomeTeam    AwayTeam  whether_home_wins  HC  AC  HST  AST  HY  AY  \\\n",
              "0     Real Madrid   La Coruna                  1  10   3   11    3   2   2   \n",
              "1        Zaragoza    Tenerife                  1   7   8    8    2   1   4   \n",
              "2         Almeria  Valladolid                  0  12   2    5    1   2   2   \n",
              "3      Ath Bilbao     Espanol                  1   6   3    4    1   2   6   \n",
              "4          Malaga  Ath Madrid                  1   4   5    4    3   4   4   \n",
              "...           ...         ...                ...  ..  ..  ...  ...  ..  ..   \n",
              "3795      Levante  Ath Madrid                  0   6   4    7    8   0   1   \n",
              "3796      Sevilla  Ath Bilbao                  1   2   3    3    1   4   2   \n",
              "3797   Valladolid    Valencia                  0   8   2    4    6   1   3   \n",
              "3798        Eibar   Barcelona                  0   5   2    8    3   4   2   \n",
              "3799  Real Madrid       Betis                  0   1   5    2    7   4   1   \n",
              "\n",
              "      HR  AR  \n",
              "0      0   0  \n",
              "1      0   0  \n",
              "2      0   1  \n",
              "3      0   0  \n",
              "4      0   0  \n",
              "...   ..  ..  \n",
              "3795   0   1  \n",
              "3796   0   0  \n",
              "3797   0   0  \n",
              "3798   0   0  \n",
              "3799   0   0  \n",
              "\n",
              "[3800 rows x 11 columns]"
            ],
            "text/html": [
              "\n",
              "  <div id=\"df-d5f93c99-e0d0-4ab5-964a-484e7662b0e1\">\n",
              "    <div class=\"colab-df-container\">\n",
              "      <div>\n",
              "<style scoped>\n",
              "    .dataframe tbody tr th:only-of-type {\n",
              "        vertical-align: middle;\n",
              "    }\n",
              "\n",
              "    .dataframe tbody tr th {\n",
              "        vertical-align: top;\n",
              "    }\n",
              "\n",
              "    .dataframe thead th {\n",
              "        text-align: right;\n",
              "    }\n",
              "</style>\n",
              "<table border=\"1\" class=\"dataframe\">\n",
              "  <thead>\n",
              "    <tr style=\"text-align: right;\">\n",
              "      <th></th>\n",
              "      <th>HomeTeam</th>\n",
              "      <th>AwayTeam</th>\n",
              "      <th>whether_home_wins</th>\n",
              "      <th>HC</th>\n",
              "      <th>AC</th>\n",
              "      <th>HST</th>\n",
              "      <th>AST</th>\n",
              "      <th>HY</th>\n",
              "      <th>AY</th>\n",
              "      <th>HR</th>\n",
              "      <th>AR</th>\n",
              "    </tr>\n",
              "  </thead>\n",
              "  <tbody>\n",
              "    <tr>\n",
              "      <th>0</th>\n",
              "      <td>Real Madrid</td>\n",
              "      <td>La Coruna</td>\n",
              "      <td>1</td>\n",
              "      <td>10</td>\n",
              "      <td>3</td>\n",
              "      <td>11</td>\n",
              "      <td>3</td>\n",
              "      <td>2</td>\n",
              "      <td>2</td>\n",
              "      <td>0</td>\n",
              "      <td>0</td>\n",
              "    </tr>\n",
              "    <tr>\n",
              "      <th>1</th>\n",
              "      <td>Zaragoza</td>\n",
              "      <td>Tenerife</td>\n",
              "      <td>1</td>\n",
              "      <td>7</td>\n",
              "      <td>8</td>\n",
              "      <td>8</td>\n",
              "      <td>2</td>\n",
              "      <td>1</td>\n",
              "      <td>4</td>\n",
              "      <td>0</td>\n",
              "      <td>0</td>\n",
              "    </tr>\n",
              "    <tr>\n",
              "      <th>2</th>\n",
              "      <td>Almeria</td>\n",
              "      <td>Valladolid</td>\n",
              "      <td>0</td>\n",
              "      <td>12</td>\n",
              "      <td>2</td>\n",
              "      <td>5</td>\n",
              "      <td>1</td>\n",
              "      <td>2</td>\n",
              "      <td>2</td>\n",
              "      <td>0</td>\n",
              "      <td>1</td>\n",
              "    </tr>\n",
              "    <tr>\n",
              "      <th>3</th>\n",
              "      <td>Ath Bilbao</td>\n",
              "      <td>Espanol</td>\n",
              "      <td>1</td>\n",
              "      <td>6</td>\n",
              "      <td>3</td>\n",
              "      <td>4</td>\n",
              "      <td>1</td>\n",
              "      <td>2</td>\n",
              "      <td>6</td>\n",
              "      <td>0</td>\n",
              "      <td>0</td>\n",
              "    </tr>\n",
              "    <tr>\n",
              "      <th>4</th>\n",
              "      <td>Malaga</td>\n",
              "      <td>Ath Madrid</td>\n",
              "      <td>1</td>\n",
              "      <td>4</td>\n",
              "      <td>5</td>\n",
              "      <td>4</td>\n",
              "      <td>3</td>\n",
              "      <td>4</td>\n",
              "      <td>4</td>\n",
              "      <td>0</td>\n",
              "      <td>0</td>\n",
              "    </tr>\n",
              "    <tr>\n",
              "      <th>...</th>\n",
              "      <td>...</td>\n",
              "      <td>...</td>\n",
              "      <td>...</td>\n",
              "      <td>...</td>\n",
              "      <td>...</td>\n",
              "      <td>...</td>\n",
              "      <td>...</td>\n",
              "      <td>...</td>\n",
              "      <td>...</td>\n",
              "      <td>...</td>\n",
              "      <td>...</td>\n",
              "    </tr>\n",
              "    <tr>\n",
              "      <th>3795</th>\n",
              "      <td>Levante</td>\n",
              "      <td>Ath Madrid</td>\n",
              "      <td>0</td>\n",
              "      <td>6</td>\n",
              "      <td>4</td>\n",
              "      <td>7</td>\n",
              "      <td>8</td>\n",
              "      <td>0</td>\n",
              "      <td>1</td>\n",
              "      <td>0</td>\n",
              "      <td>1</td>\n",
              "    </tr>\n",
              "    <tr>\n",
              "      <th>3796</th>\n",
              "      <td>Sevilla</td>\n",
              "      <td>Ath Bilbao</td>\n",
              "      <td>1</td>\n",
              "      <td>2</td>\n",
              "      <td>3</td>\n",
              "      <td>3</td>\n",
              "      <td>1</td>\n",
              "      <td>4</td>\n",
              "      <td>2</td>\n",
              "      <td>0</td>\n",
              "      <td>0</td>\n",
              "    </tr>\n",
              "    <tr>\n",
              "      <th>3797</th>\n",
              "      <td>Valladolid</td>\n",
              "      <td>Valencia</td>\n",
              "      <td>0</td>\n",
              "      <td>8</td>\n",
              "      <td>2</td>\n",
              "      <td>4</td>\n",
              "      <td>6</td>\n",
              "      <td>1</td>\n",
              "      <td>3</td>\n",
              "      <td>0</td>\n",
              "      <td>0</td>\n",
              "    </tr>\n",
              "    <tr>\n",
              "      <th>3798</th>\n",
              "      <td>Eibar</td>\n",
              "      <td>Barcelona</td>\n",
              "      <td>0</td>\n",
              "      <td>5</td>\n",
              "      <td>2</td>\n",
              "      <td>8</td>\n",
              "      <td>3</td>\n",
              "      <td>4</td>\n",
              "      <td>2</td>\n",
              "      <td>0</td>\n",
              "      <td>0</td>\n",
              "    </tr>\n",
              "    <tr>\n",
              "      <th>3799</th>\n",
              "      <td>Real Madrid</td>\n",
              "      <td>Betis</td>\n",
              "      <td>0</td>\n",
              "      <td>1</td>\n",
              "      <td>5</td>\n",
              "      <td>2</td>\n",
              "      <td>7</td>\n",
              "      <td>4</td>\n",
              "      <td>1</td>\n",
              "      <td>0</td>\n",
              "      <td>0</td>\n",
              "    </tr>\n",
              "  </tbody>\n",
              "</table>\n",
              "<p>3800 rows × 11 columns</p>\n",
              "</div>\n",
              "      <button class=\"colab-df-convert\" onclick=\"convertToInteractive('df-d5f93c99-e0d0-4ab5-964a-484e7662b0e1')\"\n",
              "              title=\"Convert this dataframe to an interactive table.\"\n",
              "              style=\"display:none;\">\n",
              "        \n",
              "  <svg xmlns=\"http://www.w3.org/2000/svg\" height=\"24px\"viewBox=\"0 0 24 24\"\n",
              "       width=\"24px\">\n",
              "    <path d=\"M0 0h24v24H0V0z\" fill=\"none\"/>\n",
              "    <path d=\"M18.56 5.44l.94 2.06.94-2.06 2.06-.94-2.06-.94-.94-2.06-.94 2.06-2.06.94zm-11 1L8.5 8.5l.94-2.06 2.06-.94-2.06-.94L8.5 2.5l-.94 2.06-2.06.94zm10 10l.94 2.06.94-2.06 2.06-.94-2.06-.94-.94-2.06-.94 2.06-2.06.94z\"/><path d=\"M17.41 7.96l-1.37-1.37c-.4-.4-.92-.59-1.43-.59-.52 0-1.04.2-1.43.59L10.3 9.45l-7.72 7.72c-.78.78-.78 2.05 0 2.83L4 21.41c.39.39.9.59 1.41.59.51 0 1.02-.2 1.41-.59l7.78-7.78 2.81-2.81c.8-.78.8-2.07 0-2.86zM5.41 20L4 18.59l7.72-7.72 1.47 1.35L5.41 20z\"/>\n",
              "  </svg>\n",
              "      </button>\n",
              "      \n",
              "  <style>\n",
              "    .colab-df-container {\n",
              "      display:flex;\n",
              "      flex-wrap:wrap;\n",
              "      gap: 12px;\n",
              "    }\n",
              "\n",
              "    .colab-df-convert {\n",
              "      background-color: #E8F0FE;\n",
              "      border: none;\n",
              "      border-radius: 50%;\n",
              "      cursor: pointer;\n",
              "      display: none;\n",
              "      fill: #1967D2;\n",
              "      height: 32px;\n",
              "      padding: 0 0 0 0;\n",
              "      width: 32px;\n",
              "    }\n",
              "\n",
              "    .colab-df-convert:hover {\n",
              "      background-color: #E2EBFA;\n",
              "      box-shadow: 0px 1px 2px rgba(60, 64, 67, 0.3), 0px 1px 3px 1px rgba(60, 64, 67, 0.15);\n",
              "      fill: #174EA6;\n",
              "    }\n",
              "\n",
              "    [theme=dark] .colab-df-convert {\n",
              "      background-color: #3B4455;\n",
              "      fill: #D2E3FC;\n",
              "    }\n",
              "\n",
              "    [theme=dark] .colab-df-convert:hover {\n",
              "      background-color: #434B5C;\n",
              "      box-shadow: 0px 1px 3px 1px rgba(0, 0, 0, 0.15);\n",
              "      filter: drop-shadow(0px 1px 2px rgba(0, 0, 0, 0.3));\n",
              "      fill: #FFFFFF;\n",
              "    }\n",
              "  </style>\n",
              "\n",
              "      <script>\n",
              "        const buttonEl =\n",
              "          document.querySelector('#df-d5f93c99-e0d0-4ab5-964a-484e7662b0e1 button.colab-df-convert');\n",
              "        buttonEl.style.display =\n",
              "          google.colab.kernel.accessAllowed ? 'block' : 'none';\n",
              "\n",
              "        async function convertToInteractive(key) {\n",
              "          const element = document.querySelector('#df-d5f93c99-e0d0-4ab5-964a-484e7662b0e1');\n",
              "          const dataTable =\n",
              "            await google.colab.kernel.invokeFunction('convertToInteractive',\n",
              "                                                     [key], {});\n",
              "          if (!dataTable) return;\n",
              "\n",
              "          const docLinkHtml = 'Like what you see? Visit the ' +\n",
              "            '<a target=\"_blank\" href=https://colab.research.google.com/notebooks/data_table.ipynb>data table notebook</a>'\n",
              "            + ' to learn more about interactive tables.';\n",
              "          element.innerHTML = '';\n",
              "          dataTable['output_type'] = 'display_data';\n",
              "          await google.colab.output.renderOutput(dataTable, element);\n",
              "          const docLink = document.createElement('div');\n",
              "          docLink.innerHTML = docLinkHtml;\n",
              "          element.appendChild(docLink);\n",
              "        }\n",
              "      </script>\n",
              "    </div>\n",
              "  </div>\n",
              "  "
            ]
          },
          "metadata": {},
          "execution_count": 215
        }
      ]
    },
    {
      "cell_type": "code",
      "source": [
        "style = sns.diverging_palette(275, 150,  s=40, l=65, n=15)# check whether there is a corelation between target value and input data\n",
        "plt.figure(figsize=(10,10))\n",
        "sns.heatmap(dataset.corr(),cmap= style,annot=True, square=True)\n",
        "plt.show()"
      ],
      "metadata": {
        "colab": {
          "base_uri": "https://localhost:8080/",
          "height": 639
        },
        "id": "7bAYLgESOHvx",
        "outputId": "692b51b2-9c6e-488b-a57d-86c737f07f4c"
      },
      "execution_count": 216,
      "outputs": [
        {
          "output_type": "display_data",
          "data": {
            "text/plain": [
              "<Figure size 720x720 with 2 Axes>"
            ],
            "image/png": "[encoded data removed]"
          },
          "metadata": {
            "needs_background": "light"
          }
        }
      ]
    },
    {
      "cell_type": "code",
      "source": [
        "dataset.tail()"
      ],
      "metadata": {
        "id": "vBwUnR6xB8pb",
        "colab": {
          "base_uri": "https://localhost:8080/",
          "height": 206
        },
        "outputId": "fc86c66a-4da6-470b-c096-152075933596"
      },
      "execution_count": 217,
      "outputs": [
        {
          "output_type": "execute_result",
          "data": {
            "text/plain": [
              "         HomeTeam    AwayTeam  whether_home_wins  HC  AC  HST  AST  HY  AY  \\\n",
              "3795      Levante  Ath Madrid                  0   6   4    7    8   0   1   \n",
              "3796      Sevilla  Ath Bilbao                  1   2   3    3    1   4   2   \n",
              "3797   Valladolid    Valencia                  0   8   2    4    6   1   3   \n",
              "3798        Eibar   Barcelona                  0   5   2    8    3   4   2   \n",
              "3799  Real Madrid       Betis                  0   1   5    2    7   4   1   \n",
              "\n",
              "      HR  AR  \n",
              "3795   0   1  \n",
              "3796   0   0  \n",
              "3797   0   0  \n",
              "3798   0   0  \n",
              "3799   0   0  "
            ],
            "text/html": [
              "\n",
              "  <div id=\"df-e6dec649-b75d-4c7d-a161-24a7e0ce8ccb\">\n",
              "    <div class=\"colab-df-container\">\n",
              "      <div>\n",
              "<style scoped>\n",
              "    .dataframe tbody tr th:only-of-type {\n",
              "        vertical-align: middle;\n",
              "    }\n",
              "\n",
              "    .dataframe tbody tr th {\n",
              "        vertical-align: top;\n",
              "    }\n",
              "\n",
              "    .dataframe thead th {\n",
              "        text-align: right;\n",
              "    }\n",
              "</style>\n",
              "<table border=\"1\" class=\"dataframe\">\n",
              "  <thead>\n",
              "    <tr style=\"text-align: right;\">\n",
              "      <th></th>\n",
              "      <th>HomeTeam</th>\n",
              "      <th>AwayTeam</th>\n",
              "      <th>whether_home_wins</th>\n",
              "      <th>HC</th>\n",
              "      <th>AC</th>\n",
              "      <th>HST</th>\n",
              "      <th>AST</th>\n",
              "      <th>HY</th>\n",
              "      <th>AY</th>\n",
              "      <th>HR</th>\n",
              "      <th>AR</th>\n",
              "    </tr>\n",
              "  </thead>\n",
              "  <tbody>\n",
              "    <tr>\n",
              "      <th>3795</th>\n",
              "      <td>Levante</td>\n",
              "      <td>Ath Madrid</td>\n",
              "      <td>0</td>\n",
              "      <td>6</td>\n",
              "      <td>4</td>\n",
              "      <td>7</td>\n",
              "      <td>8</td>\n",
              "      <td>0</td>\n",
              "      <td>1</td>\n",
              "      <td>0</td>\n",
              "      <td>1</td>\n",
              "    </tr>\n",
              "    <tr>\n",
              "      <th>3796</th>\n",
              "      <td>Sevilla</td>\n",
              "      <td>Ath Bilbao</td>\n",
              "      <td>1</td>\n",
              "      <td>2</td>\n",
              "      <td>3</td>\n",
              "      <td>3</td>\n",
              "      <td>1</td>\n",
              "      <td>4</td>\n",
              "      <td>2</td>\n",
              "      <td>0</td>\n",
              "      <td>0</td>\n",
              "    </tr>\n",
              "    <tr>\n",
              "      <th>3797</th>\n",
              "      <td>Valladolid</td>\n",
              "      <td>Valencia</td>\n",
              "      <td>0</td>\n",
              "      <td>8</td>\n",
              "      <td>2</td>\n",
              "      <td>4</td>\n",
              "      <td>6</td>\n",
              "      <td>1</td>\n",
              "      <td>3</td>\n",
              "      <td>0</td>\n",
              "      <td>0</td>\n",
              "    </tr>\n",
              "    <tr>\n",
              "      <th>3798</th>\n",
              "      <td>Eibar</td>\n",
              "      <td>Barcelona</td>\n",
              "      <td>0</td>\n",
              "      <td>5</td>\n",
              "      <td>2</td>\n",
              "      <td>8</td>\n",
              "      <td>3</td>\n",
              "      <td>4</td>\n",
              "      <td>2</td>\n",
              "      <td>0</td>\n",
              "      <td>0</td>\n",
              "    </tr>\n",
              "    <tr>\n",
              "      <th>3799</th>\n",
              "      <td>Real Madrid</td>\n",
              "      <td>Betis</td>\n",
              "      <td>0</td>\n",
              "      <td>1</td>\n",
              "      <td>5</td>\n",
              "      <td>2</td>\n",
              "      <td>7</td>\n",
              "      <td>4</td>\n",
              "      <td>1</td>\n",
              "      <td>0</td>\n",
              "      <td>0</td>\n",
              "    </tr>\n",
              "  </tbody>\n",
              "</table>\n",
              "</div>\n",
              "      <button class=\"colab-df-convert\" onclick=\"convertToInteractive('df-e6dec649-b75d-4c7d-a161-24a7e0ce8ccb')\"\n",
              "              title=\"Convert this dataframe to an interactive table.\"\n",
              "              style=\"display:none;\">\n",
              "        \n",
              "  <svg xmlns=\"http://www.w3.org/2000/svg\" height=\"24px\"viewBox=\"0 0 24 24\"\n",
              "       width=\"24px\">\n",
              "    <path d=\"M0 0h24v24H0V0z\" fill=\"none\"/>\n",
              "    <path d=\"M18.56 5.44l.94 2.06.94-2.06 2.06-.94-2.06-.94-.94-2.06-.94 2.06-2.06.94zm-11 1L8.5 8.5l.94-2.06 2.06-.94-2.06-.94L8.5 2.5l-.94 2.06-2.06.94zm10 10l.94 2.06.94-2.06 2.06-.94-2.06-.94-.94-2.06-.94 2.06-2.06.94z\"/><path d=\"M17.41 7.96l-1.37-1.37c-.4-.4-.92-.59-1.43-.59-.52 0-1.04.2-1.43.59L10.3 9.45l-7.72 7.72c-.78.78-.78 2.05 0 2.83L4 21.41c.39.39.9.59 1.41.59.51 0 1.02-.2 1.41-.59l7.78-7.78 2.81-2.81c.8-.78.8-2.07 0-2.86zM5.41 20L4 18.59l7.72-7.72 1.47 1.35L5.41 20z\"/>\n",
              "  </svg>\n",
              "      </button>\n",
              "      \n",
              "  <style>\n",
              "    .colab-df-container {\n",
              "      display:flex;\n",
              "      flex-wrap:wrap;\n",
              "      gap: 12px;\n",
              "    }\n",
              "\n",
              "    .colab-df-convert {\n",
              "      background-color: #E8F0FE;\n",
              "      border: none;\n",
              "      border-radius: 50%;\n",
              "      cursor: pointer;\n",
              "      display: none;\n",
              "      fill: #1967D2;\n",
              "      height: 32px;\n",
              "      padding: 0 0 0 0;\n",
              "      width: 32px;\n",
              "    }\n",
              "\n",
              "    .colab-df-convert:hover {\n",
              "      background-color: #E2EBFA;\n",
              "      box-shadow: 0px 1px 2px rgba(60, 64, 67, 0.3), 0px 1px 3px 1px rgba(60, 64, 67, 0.15);\n",
              "      fill: #174EA6;\n",
              "    }\n",
              "\n",
              "    [theme=dark] .colab-df-convert {\n",
              "      background-color: #3B4455;\n",
              "      fill: #D2E3FC;\n",
              "    }\n",
              "\n",
              "    [theme=dark] .colab-df-convert:hover {\n",
              "      background-color: #434B5C;\n",
              "      box-shadow: 0px 1px 3px 1px rgba(0, 0, 0, 0.15);\n",
              "      filter: drop-shadow(0px 1px 2px rgba(0, 0, 0, 0.3));\n",
              "      fill: #FFFFFF;\n",
              "    }\n",
              "  </style>\n",
              "\n",
              "      <script>\n",
              "        const buttonEl =\n",
              "          document.querySelector('#df-e6dec649-b75d-4c7d-a161-24a7e0ce8ccb button.colab-df-convert');\n",
              "        buttonEl.style.display =\n",
              "          google.colab.kernel.accessAllowed ? 'block' : 'none';\n",
              "\n",
              "        async function convertToInteractive(key) {\n",
              "          const element = document.querySelector('#df-e6dec649-b75d-4c7d-a161-24a7e0ce8ccb');\n",
              "          const dataTable =\n",
              "            await google.colab.kernel.invokeFunction('convertToInteractive',\n",
              "                                                     [key], {});\n",
              "          if (!dataTable) return;\n",
              "\n",
              "          const docLinkHtml = 'Like what you see? Visit the ' +\n",
              "            '<a target=\"_blank\" href=https://colab.research.google.com/notebooks/data_table.ipynb>data table notebook</a>'\n",
              "            + ' to learn more about interactive tables.';\n",
              "          element.innerHTML = '';\n",
              "          dataTable['output_type'] = 'display_data';\n",
              "          await google.colab.output.renderOutput(dataTable, element);\n",
              "          const docLink = document.createElement('div');\n",
              "          docLink.innerHTML = docLinkHtml;\n",
              "          element.appendChild(docLink);\n",
              "        }\n",
              "      </script>\n",
              "    </div>\n",
              "  </div>\n",
              "  "
            ]
          },
          "metadata": {},
          "execution_count": 217
        }
      ]
    },
    {
      "cell_type": "code",
      "source": [
        "dataset.describe()"
      ],
      "metadata": {
        "colab": {
          "base_uri": "https://localhost:8080/",
          "height": 300
        },
        "id": "0U1rN2zsHgXd",
        "outputId": "9c7940c3-3a1b-42f8-9609-5450f74f75f2"
      },
      "execution_count": 218,
      "outputs": [
        {
          "output_type": "execute_result",
          "data": {
            "text/plain": [
              "       whether_home_wins           HC           AC          HST          AST  \\\n",
              "count        3800.000000  3800.000000  3800.000000  3800.000000  3800.000000   \n",
              "mean            0.481316     5.962368     4.463421     5.050789     3.882105   \n",
              "std             0.499717     2.967651     2.557520     2.669631     2.291887   \n",
              "min             0.000000     0.000000     0.000000     0.000000     0.000000   \n",
              "25%             0.000000     4.000000     3.000000     3.000000     2.000000   \n",
              "50%             0.000000     6.000000     4.000000     5.000000     4.000000   \n",
              "75%             1.000000     8.000000     6.000000     7.000000     5.000000   \n",
              "max             1.000000    20.000000    17.000000    18.000000    16.000000   \n",
              "\n",
              "                HY           AY           HR           AR  \n",
              "count  3800.000000  3800.000000  3800.000000  3800.000000  \n",
              "mean      2.447105     2.723947     0.124474     0.164474  \n",
              "std       1.486038     1.509941     0.354761     0.407938  \n",
              "min       0.000000     0.000000     0.000000     0.000000  \n",
              "25%       1.000000     2.000000     0.000000     0.000000  \n",
              "50%       2.000000     3.000000     0.000000     0.000000  \n",
              "75%       3.000000     4.000000     0.000000     0.000000  \n",
              "max       8.000000     9.000000     3.000000     3.000000  "
            ],
            "text/html": [
              "\n",
              "  <div id=\"df-08181746-aaa8-45b2-bf13-2516a8053f85\">\n",
              "    <div class=\"colab-df-container\">\n",
              "      <div>\n",
              "<style scoped>\n",
              "    .dataframe tbody tr th:only-of-type {\n",
              "        vertical-align: middle;\n",
              "    }\n",
              "\n",
              "    .dataframe tbody tr th {\n",
              "        vertical-align: top;\n",
              "    }\n",
              "\n",
              "    .dataframe thead th {\n",
              "        text-align: right;\n",
              "    }\n",
              "</style>\n",
              "<table border=\"1\" class=\"dataframe\">\n",
              "  <thead>\n",
              "    <tr style=\"text-align: right;\">\n",
              "      <th></th>\n",
              "      <th>whether_home_wins</th>\n",
              "      <th>HC</th>\n",
              "      <th>AC</th>\n",
              "      <th>HST</th>\n",
              "      <th>AST</th>\n",
              "      <th>HY</th>\n",
              "      <th>AY</th>\n",
              "      <th>HR</th>\n",
              "      <th>AR</th>\n",
              "    </tr>\n",
              "  </thead>\n",
              "  <tbody>\n",
              "    <tr>\n",
              "      <th>count</th>\n",
              "      <td>3800.000000</td>\n",
              "      <td>3800.000000</td>\n",
              "      <td>3800.000000</td>\n",
              "      <td>3800.000000</td>\n",
              "      <td>3800.000000</td>\n",
              "      <td>3800.000000</td>\n",
              "      <td>3800.000000</td>\n",
              "      <td>3800.000000</td>\n",
              "      <td>3800.000000</td>\n",
              "    </tr>\n",
              "    <tr>\n",
              "      <th>mean</th>\n",
              "      <td>0.481316</td>\n",
              "      <td>5.962368</td>\n",
              "      <td>4.463421</td>\n",
              "      <td>5.050789</td>\n",
              "      <td>3.882105</td>\n",
              "      <td>2.447105</td>\n",
              "      <td>2.723947</td>\n",
              "      <td>0.124474</td>\n",
              "      <td>0.164474</td>\n",
              "    </tr>\n",
              "    <tr>\n",
              "      <th>std</th>\n",
              "      <td>0.499717</td>\n",
              "      <td>2.967651</td>\n",
              "      <td>2.557520</td>\n",
              "      <td>2.669631</td>\n",
              "      <td>2.291887</td>\n",
              "      <td>1.486038</td>\n",
              "      <td>1.509941</td>\n",
              "      <td>0.354761</td>\n",
              "      <td>0.407938</td>\n",
              "    </tr>\n",
              "    <tr>\n",
              "      <th>min</th>\n",
              "      <td>0.000000</td>\n",
              "      <td>0.000000</td>\n",
              "      <td>0.000000</td>\n",
              "      <td>0.000000</td>\n",
              "      <td>0.000000</td>\n",
              "      <td>0.000000</td>\n",
              "      <td>0.000000</td>\n",
              "      <td>0.000000</td>\n",
              "      <td>0.000000</td>\n",
              "    </tr>\n",
              "    <tr>\n",
              "      <th>25%</th>\n",
              "      <td>0.000000</td>\n",
              "      <td>4.000000</td>\n",
              "      <td>3.000000</td>\n",
              "      <td>3.000000</td>\n",
              "      <td>2.000000</td>\n",
              "      <td>1.000000</td>\n",
              "      <td>2.000000</td>\n",
              "      <td>0.000000</td>\n",
              "      <td>0.000000</td>\n",
              "    </tr>\n",
              "    <tr>\n",
              "      <th>50%</th>\n",
              "      <td>0.000000</td>\n",
              "      <td>6.000000</td>\n",
              "      <td>4.000000</td>\n",
              "      <td>5.000000</td>\n",
              "      <td>4.000000</td>\n",
              "      <td>2.000000</td>\n",
              "      <td>3.000000</td>\n",
              "      <td>0.000000</td>\n",
              "      <td>0.000000</td>\n",
              "    </tr>\n",
              "    <tr>\n",
              "      <th>75%</th>\n",
              "      <td>1.000000</td>\n",
              "      <td>8.000000</td>\n",
              "      <td>6.000000</td>\n",
              "      <td>7.000000</td>\n",
              "      <td>5.000000</td>\n",
              "      <td>3.000000</td>\n",
              "      <td>4.000000</td>\n",
              "      <td>0.000000</td>\n",
              "      <td>0.000000</td>\n",
              "    </tr>\n",
              "    <tr>\n",
              "      <th>max</th>\n",
              "      <td>1.000000</td>\n",
              "      <td>20.000000</td>\n",
              "      <td>17.000000</td>\n",
              "      <td>18.000000</td>\n",
              "      <td>16.000000</td>\n",
              "      <td>8.000000</td>\n",
              "      <td>9.000000</td>\n",
              "      <td>3.000000</td>\n",
              "      <td>3.000000</td>\n",
              "    </tr>\n",
              "  </tbody>\n",
              "</table>\n",
              "</div>\n",
              "      <button class=\"colab-df-convert\" onclick=\"convertToInteractive('df-08181746-aaa8-45b2-bf13-2516a8053f85')\"\n",
              "              title=\"Convert this dataframe to an interactive table.\"\n",
              "              style=\"display:none;\">\n",
              "        \n",
              "  <svg xmlns=\"http://www.w3.org/2000/svg\" height=\"24px\"viewBox=\"0 0 24 24\"\n",
              "       width=\"24px\">\n",
              "    <path d=\"M0 0h24v24H0V0z\" fill=\"none\"/>\n",
              "    <path d=\"M18.56 5.44l.94 2.06.94-2.06 2.06-.94-2.06-.94-.94-2.06-.94 2.06-2.06.94zm-11 1L8.5 8.5l.94-2.06 2.06-.94-2.06-.94L8.5 2.5l-.94 2.06-2.06.94zm10 10l.94 2.06.94-2.06 2.06-.94-2.06-.94-.94-2.06-.94 2.06-2.06.94z\"/><path d=\"M17.41 7.96l-1.37-1.37c-.4-.4-.92-.59-1.43-.59-.52 0-1.04.2-1.43.59L10.3 9.45l-7.72 7.72c-.78.78-.78 2.05 0 2.83L4 21.41c.39.39.9.59 1.41.59.51 0 1.02-.2 1.41-.59l7.78-7.78 2.81-2.81c.8-.78.8-2.07 0-2.86zM5.41 20L4 18.59l7.72-7.72 1.47 1.35L5.41 20z\"/>\n",
              "  </svg>\n",
              "      </button>\n",
              "      \n",
              "  <style>\n",
              "    .colab-df-container {\n",
              "      display:flex;\n",
              "      flex-wrap:wrap;\n",
              "      gap: 12px;\n",
              "    }\n",
              "\n",
              "    .colab-df-convert {\n",
              "      background-color: #E8F0FE;\n",
              "      border: none;\n",
              "      border-radius: 50%;\n",
              "      cursor: pointer;\n",
              "      display: none;\n",
              "      fill: #1967D2;\n",
              "      height: 32px;\n",
              "      padding: 0 0 0 0;\n",
              "      width: 32px;\n",
              "    }\n",
              "\n",
              "    .colab-df-convert:hover {\n",
              "      background-color: #E2EBFA;\n",
              "      box-shadow: 0px 1px 2px rgba(60, 64, 67, 0.3), 0px 1px 3px 1px rgba(60, 64, 67, 0.15);\n",
              "      fill: #174EA6;\n",
              "    }\n",
              "\n",
              "    [theme=dark] .colab-df-convert {\n",
              "      background-color: #3B4455;\n",
              "      fill: #D2E3FC;\n",
              "    }\n",
              "\n",
              "    [theme=dark] .colab-df-convert:hover {\n",
              "      background-color: #434B5C;\n",
              "      box-shadow: 0px 1px 3px 1px rgba(0, 0, 0, 0.15);\n",
              "      filter: drop-shadow(0px 1px 2px rgba(0, 0, 0, 0.3));\n",
              "      fill: #FFFFFF;\n",
              "    }\n",
              "  </style>\n",
              "\n",
              "      <script>\n",
              "        const buttonEl =\n",
              "          document.querySelector('#df-08181746-aaa8-45b2-bf13-2516a8053f85 button.colab-df-convert');\n",
              "        buttonEl.style.display =\n",
              "          google.colab.kernel.accessAllowed ? 'block' : 'none';\n",
              "\n",
              "        async function convertToInteractive(key) {\n",
              "          const element = document.querySelector('#df-08181746-aaa8-45b2-bf13-2516a8053f85');\n",
              "          const dataTable =\n",
              "            await google.colab.kernel.invokeFunction('convertToInteractive',\n",
              "                                                     [key], {});\n",
              "          if (!dataTable) return;\n",
              "\n",
              "          const docLinkHtml = 'Like what you see? Visit the ' +\n",
              "            '<a target=\"_blank\" href=https://colab.research.google.com/notebooks/data_table.ipynb>data table notebook</a>'\n",
              "            + ' to learn more about interactive tables.';\n",
              "          element.innerHTML = '';\n",
              "          dataTable['output_type'] = 'display_data';\n",
              "          await google.colab.output.renderOutput(dataTable, element);\n",
              "          const docLink = document.createElement('div');\n",
              "          docLink.innerHTML = docLinkHtml;\n",
              "          element.appendChild(docLink);\n",
              "        }\n",
              "      </script>\n",
              "    </div>\n",
              "  </div>\n",
              "  "
            ]
          },
          "metadata": {},
          "execution_count": 218
        }
      ]
    },
    {
      "cell_type": "code",
      "source": [
        "dataset.isna().sum() #to find whether there is a null value in the dataset"
      ],
      "metadata": {
        "colab": {
          "base_uri": "https://localhost:8080/"
        },
        "id": "OAxINw2VI3t9",
        "outputId": "0ddd97db-77c8-4d4b-9a9a-aca94f05a052"
      },
      "execution_count": 219,
      "outputs": [
        {
          "output_type": "execute_result",
          "data": {
            "text/plain": [
              "HomeTeam             0\n",
              "AwayTeam             0\n",
              "whether_home_wins    0\n",
              "HC                   0\n",
              "AC                   0\n",
              "HST                  0\n",
              "AST                  0\n",
              "HY                   0\n",
              "AY                   0\n",
              "HR                   0\n",
              "AR                   0\n",
              "dtype: int64"
            ]
          },
          "metadata": {},
          "execution_count": 219
        }
      ]
    },
    {
      "cell_type": "markdown",
      "source": [
        "#Data preprocessing"
      ],
      "metadata": {
        "id": "44JqPV2sL6Lk"
      }
    },
    {
      "cell_type": "code",
      "source": [
        "#the distributin visulation of our features\n",
        "fig = plt.figure(figsize = (25,8))\n",
        "ax1 = fig.add_subplot(2,4,1)\n",
        "ax1.set_title(\"distribution for HC\")\n",
        "ax1.set_ylabel(\"number\")\n",
        "dataset[\"HC\"].hist(bins = 10)\n",
        "ax2 = fig.add_subplot(2,4,2)\n",
        "ax2.set_title(\"distribution for AC\")\n",
        "ax2.set_ylabel(\"number\")\n",
        "dataset[\"AC\"].hist(bins = 10)\n",
        "ax3 = fig.add_subplot(2,4,3)\n",
        "ax3.set_title(\"distribution for HST\")\n",
        "ax3.set_ylabel(\"number\")\n",
        "dataset[\"HST\"].hist(bins = 10)\n",
        "ax4 = fig.add_subplot(2,4,4)\n",
        "ax4.set_title(\"distribution for AST\")\n",
        "ax4.set_ylabel(\"number\")\n",
        "dataset[\"AST\"].hist(bins = 10)\n",
        "ax5 = fig.add_subplot(2,4,5)\n",
        "ax5.set_title(\"distribution for HY\")\n",
        "ax5.set_ylabel(\"number\")\n",
        "dataset[\"HY\"].hist(bins = 10)\n",
        "ax6 = fig.add_subplot(2,4,6)\n",
        "ax6.set_title(\"distribution for AY\")\n",
        "ax6.set_ylabel(\"number\")\n",
        "dataset[\"AY\"].hist(bins = 10)\n",
        "ax7 = fig.add_subplot(2,4,7)\n",
        "ax7.set_title(\"distribution for HR\")\n",
        "ax7.set_ylabel(\"number\")\n",
        "dataset[\"HR\"].hist(bins = 10)\n",
        "ax8 = fig.add_subplot(2,4,8)\n",
        "ax8.set_title(\"distribution for AR\")\n",
        "ax8.set_ylabel(\"number\")\n",
        "dataset[\"AR\"].hist(bins = 10)\n",
        "plt.show()\n"
      ],
      "metadata": {
        "colab": {
          "base_uri": "https://localhost:8080/",
          "height": 429
        },
        "id": "DOkSFT_KcDfL",
        "outputId": "6860298c-ae19-4a54-f102-d99212eabedc"
      },
      "execution_count": 220,
      "outputs": [
        {
          "output_type": "display_data",
          "data": {
            "text/plain": [
              "<Figure size 1800x576 with 8 Axes>"
            ],
            "image/png": "[encoded data removed]"
          },
          "metadata": {
            "needs_background": "light"
          }
        }
      ]
    },
    {
      "cell_type": "code",
      "source": [
        "#boxplot\n",
        "fig = plt.figure(figsize = (25,8))\n",
        "labels = [\"HC\",\"AC\",\"HST\",\"AST\",\"HY\",\"AY\",\"HR\",\"AR\" ]\n",
        "plt.boxplot([dataset[\"HC\"],dataset[\"AC\"],dataset[\"HST\"],dataset[\"AST\"],dataset[\"HY\"],dataset[\"AY\"],dataset[\"HR\"],dataset[\"AR\"]],labels = labels)\n",
        "plt.show()\n"
      ],
      "metadata": {
        "colab": {
          "base_uri": "https://localhost:8080/",
          "height": 420
        },
        "id": "zU92rBkwxNsS",
        "outputId": "c163c3b6-8b49-4b55-9dfd-bb6d0ff1e0b7"
      },
      "execution_count": 221,
      "outputs": [
        {
          "output_type": "display_data",
          "data": {
            "text/plain": [
              "<Figure size 1800x576 with 1 Axes>"
            ],
            "image/png": "[encoded data removed]"
          },
          "metadata": {
            "needs_background": "light"
          }
        }
      ]
    },
    {
      "cell_type": "code",
      "source": [
        "robust_scaler = RobustScaler()\n",
        "dataset[['HC','AC','HST','AST','HY','AY','HR','AR']] = robust_scaler.fit_transform(dataset[['HC','AC','HST','AST','HY','AY','HR','AR']])"
      ],
      "metadata": {
        "id": "LdebzGNxSymq"
      },
      "execution_count": 222,
      "outputs": []
    },
    {
      "cell_type": "code",
      "source": [
        "#after using the robustscaler, use the boxplot to check whether there is outliers\n",
        "fig = plt.figure(figsize = (25,8))\n",
        "labels = [\"HC\",\"AC\",\"HST\",\"AST\",\"HY\",\"AY\",\"HR\",\"AR\" ]\n",
        "plt.boxplot([dataset[\"HC\"],dataset[\"AC\"],dataset[\"HST\"],dataset[\"AST\"],dataset[\"HY\"],dataset[\"AY\"],dataset[\"HR\"],dataset[\"AR\"]],labels = labels)\n",
        "plt.show()\n"
      ],
      "metadata": {
        "colab": {
          "base_uri": "https://localhost:8080/",
          "height": 422
        },
        "id": "bOR3AG0PfYP5",
        "outputId": "1fe92858-9111-43a6-bc65-fd5c265c3d3c"
      },
      "execution_count": 223,
      "outputs": [
        {
          "output_type": "display_data",
          "data": {
            "text/plain": [
              "<Figure size 1800x576 with 1 Axes>"
            ],
            "image/png": "[encoded data removed]"
          },
          "metadata": {
            "needs_background": "light"
          }
        }
      ]
    },
    {
      "cell_type": "code",
      "source": [
        "#t = np.log(dataset[\"HR\"] + 1) #make the data withou"
      ],
      "metadata": {
        "id": "216tIAyhpCxf"
      },
      "execution_count": 224,
      "outputs": []
    },
    {
      "cell_type": "markdown",
      "source": [],
      "metadata": {
        "id": "h-RFFNKoL92F"
      }
    },
    {
      "cell_type": "code",
      "source": [
        "dataset.head()"
      ],
      "metadata": {
        "colab": {
          "base_uri": "https://localhost:8080/",
          "height": 206
        },
        "id": "wmilkLSQKmUs",
        "outputId": "b4344634-e609-4918-bbd2-7e938aab2761"
      },
      "execution_count": 225,
      "outputs": [
        {
          "output_type": "execute_result",
          "data": {
            "text/plain": [
              "      HomeTeam    AwayTeam  whether_home_wins    HC        AC   HST       AST  \\\n",
              "0  Real Madrid   La Coruna                  1  1.00 -0.333333  1.50 -0.333333   \n",
              "1     Zaragoza    Tenerife                  1  0.25  1.333333  0.75 -0.666667   \n",
              "2      Almeria  Valladolid                  0  1.50 -0.666667  0.00 -1.000000   \n",
              "3   Ath Bilbao     Espanol                  1  0.00 -0.333333 -0.25 -1.000000   \n",
              "4       Malaga  Ath Madrid                  1 -0.50  0.333333 -0.25 -0.333333   \n",
              "\n",
              "    HY   AY   HR   AR  \n",
              "0  0.0 -0.5  0.0  0.0  \n",
              "1 -0.5  0.5  0.0  0.0  \n",
              "2  0.0 -0.5  0.0  1.0  \n",
              "3  0.0  1.5  0.0  0.0  \n",
              "4  1.0  0.5  0.0  0.0  "
            ],
            "text/html": [
              "\n",
              "  <div id=\"df-dba0a3f9-c7cb-4ca1-891f-bbd99f78cef5\">\n",
              "    <div class=\"colab-df-container\">\n",
              "      <div>\n",
              "<style scoped>\n",
              "    .dataframe tbody tr th:only-of-type {\n",
              "        vertical-align: middle;\n",
              "    }\n",
              "\n",
              "    .dataframe tbody tr th {\n",
              "        vertical-align: top;\n",
              "    }\n",
              "\n",
              "    .dataframe thead th {\n",
              "        text-align: right;\n",
              "    }\n",
              "</style>\n",
              "<table border=\"1\" class=\"dataframe\">\n",
              "  <thead>\n",
              "    <tr style=\"text-align: right;\">\n",
              "      <th></th>\n",
              "      <th>HomeTeam</th>\n",
              "      <th>AwayTeam</th>\n",
              "      <th>whether_home_wins</th>\n",
              "      <th>HC</th>\n",
              "      <th>AC</th>\n",
              "      <th>HST</th>\n",
              "      <th>AST</th>\n",
              "      <th>HY</th>\n",
              "      <th>AY</th>\n",
              "      <th>HR</th>\n",
              "      <th>AR</th>\n",
              "    </tr>\n",
              "  </thead>\n",
              "  <tbody>\n",
              "    <tr>\n",
              "      <th>0</th>\n",
              "      <td>Real Madrid</td>\n",
              "      <td>La Coruna</td>\n",
              "      <td>1</td>\n",
              "      <td>1.00</td>\n",
              "      <td>-0.333333</td>\n",
              "      <td>1.50</td>\n",
              "      <td>-0.333333</td>\n",
              "      <td>0.0</td>\n",
              "      <td>-0.5</td>\n",
              "      <td>0.0</td>\n",
              "      <td>0.0</td>\n",
              "    </tr>\n",
              "    <tr>\n",
              "      <th>1</th>\n",
              "      <td>Zaragoza</td>\n",
              "      <td>Tenerife</td>\n",
              "      <td>1</td>\n",
              "      <td>0.25</td>\n",
              "      <td>1.333333</td>\n",
              "      <td>0.75</td>\n",
              "      <td>-0.666667</td>\n",
              "      <td>-0.5</td>\n",
              "      <td>0.5</td>\n",
              "      <td>0.0</td>\n",
              "      <td>0.0</td>\n",
              "    </tr>\n",
              "    <tr>\n",
              "      <th>2</th>\n",
              "      <td>Almeria</td>\n",
              "      <td>Valladolid</td>\n",
              "      <td>0</td>\n",
              "      <td>1.50</td>\n",
              "      <td>-0.666667</td>\n",
              "      <td>0.00</td>\n",
              "      <td>-1.000000</td>\n",
              "      <td>0.0</td>\n",
              "      <td>-0.5</td>\n",
              "      <td>0.0</td>\n",
              "      <td>1.0</td>\n",
              "    </tr>\n",
              "    <tr>\n",
              "      <th>3</th>\n",
              "      <td>Ath Bilbao</td>\n",
              "      <td>Espanol</td>\n",
              "      <td>1</td>\n",
              "      <td>0.00</td>\n",
              "      <td>-0.333333</td>\n",
              "      <td>-0.25</td>\n",
              "      <td>-1.000000</td>\n",
              "      <td>0.0</td>\n",
              "      <td>1.5</td>\n",
              "      <td>0.0</td>\n",
              "      <td>0.0</td>\n",
              "    </tr>\n",
              "    <tr>\n",
              "      <th>4</th>\n",
              "      <td>Malaga</td>\n",
              "      <td>Ath Madrid</td>\n",
              "      <td>1</td>\n",
              "      <td>-0.50</td>\n",
              "      <td>0.333333</td>\n",
              "      <td>-0.25</td>\n",
              "      <td>-0.333333</td>\n",
              "      <td>1.0</td>\n",
              "      <td>0.5</td>\n",
              "      <td>0.0</td>\n",
              "      <td>0.0</td>\n",
              "    </tr>\n",
              "  </tbody>\n",
              "</table>\n",
              "</div>\n",
              "      <button class=\"colab-df-convert\" onclick=\"convertToInteractive('df-dba0a3f9-c7cb-4ca1-891f-bbd99f78cef5')\"\n",
              "              title=\"Convert this dataframe to an interactive table.\"\n",
              "              style=\"display:none;\">\n",
              "        \n",
              "  <svg xmlns=\"http://www.w3.org/2000/svg\" height=\"24px\"viewBox=\"0 0 24 24\"\n",
              "       width=\"24px\">\n",
              "    <path d=\"M0 0h24v24H0V0z\" fill=\"none\"/>\n",
              "    <path d=\"M18.56 5.44l.94 2.06.94-2.06 2.06-.94-2.06-.94-.94-2.06-.94 2.06-2.06.94zm-11 1L8.5 8.5l.94-2.06 2.06-.94-2.06-.94L8.5 2.5l-.94 2.06-2.06.94zm10 10l.94 2.06.94-2.06 2.06-.94-2.06-.94-.94-2.06-.94 2.06-2.06.94z\"/><path d=\"M17.41 7.96l-1.37-1.37c-.4-.4-.92-.59-1.43-.59-.52 0-1.04.2-1.43.59L10.3 9.45l-7.72 7.72c-.78.78-.78 2.05 0 2.83L4 21.41c.39.39.9.59 1.41.59.51 0 1.02-.2 1.41-.59l7.78-7.78 2.81-2.81c.8-.78.8-2.07 0-2.86zM5.41 20L4 18.59l7.72-7.72 1.47 1.35L5.41 20z\"/>\n",
              "  </svg>\n",
              "      </button>\n",
              "      \n",
              "  <style>\n",
              "    .colab-df-container {\n",
              "      display:flex;\n",
              "      flex-wrap:wrap;\n",
              "      gap: 12px;\n",
              "    }\n",
              "\n",
              "    .colab-df-convert {\n",
              "      background-color: #E8F0FE;\n",
              "      border: none;\n",
              "      border-radius: 50%;\n",
              "      cursor: pointer;\n",
              "      display: none;\n",
              "      fill: #1967D2;\n",
              "      height: 32px;\n",
              "      padding: 0 0 0 0;\n",
              "      width: 32px;\n",
              "    }\n",
              "\n",
              "    .colab-df-convert:hover {\n",
              "      background-color: #E2EBFA;\n",
              "      box-shadow: 0px 1px 2px rgba(60, 64, 67, 0.3), 0px 1px 3px 1px rgba(60, 64, 67, 0.15);\n",
              "      fill: #174EA6;\n",
              "    }\n",
              "\n",
              "    [theme=dark] .colab-df-convert {\n",
              "      background-color: #3B4455;\n",
              "      fill: #D2E3FC;\n",
              "    }\n",
              "\n",
              "    [theme=dark] .colab-df-convert:hover {\n",
              "      background-color: #434B5C;\n",
              "      box-shadow: 0px 1px 3px 1px rgba(0, 0, 0, 0.15);\n",
              "      filter: drop-shadow(0px 1px 2px rgba(0, 0, 0, 0.3));\n",
              "      fill: #FFFFFF;\n",
              "    }\n",
              "  </style>\n",
              "\n",
              "      <script>\n",
              "        const buttonEl =\n",
              "          document.querySelector('#df-dba0a3f9-c7cb-4ca1-891f-bbd99f78cef5 button.colab-df-convert');\n",
              "        buttonEl.style.display =\n",
              "          google.colab.kernel.accessAllowed ? 'block' : 'none';\n",
              "\n",
              "        async function convertToInteractive(key) {\n",
              "          const element = document.querySelector('#df-dba0a3f9-c7cb-4ca1-891f-bbd99f78cef5');\n",
              "          const dataTable =\n",
              "            await google.colab.kernel.invokeFunction('convertToInteractive',\n",
              "                                                     [key], {});\n",
              "          if (!dataTable) return;\n",
              "\n",
              "          const docLinkHtml = 'Like what you see? Visit the ' +\n",
              "            '<a target=\"_blank\" href=https://colab.research.google.com/notebooks/data_table.ipynb>data table notebook</a>'\n",
              "            + ' to learn more about interactive tables.';\n",
              "          element.innerHTML = '';\n",
              "          dataTable['output_type'] = 'display_data';\n",
              "          await google.colab.output.renderOutput(dataTable, element);\n",
              "          const docLink = document.createElement('div');\n",
              "          docLink.innerHTML = docLinkHtml;\n",
              "          element.appendChild(docLink);\n",
              "        }\n",
              "      </script>\n",
              "    </div>\n",
              "  </div>\n",
              "  "
            ]
          },
          "metadata": {},
          "execution_count": 225
        }
      ]
    },
    {
      "cell_type": "code",
      "source": [
        "dataset = pd.get_dummies(dataset, columns=['HomeTeam','AwayTeam'], \n",
        "                        #dummy_na=True, \n",
        "                        drop_first=True)#onehot encodiing"
      ],
      "metadata": {
        "id": "aNVOfC0W1On_"
      },
      "execution_count": 226,
      "outputs": []
    },
    {
      "cell_type": "code",
      "source": [
        "dataset.head()"
      ],
      "metadata": {
        "colab": {
          "base_uri": "https://localhost:8080/",
          "height": 317
        },
        "id": "L5j_WhDY1fZW",
        "outputId": "82e7afdf-7a6b-4f52-d22e-49b48aa74131"
      },
      "execution_count": 227,
      "outputs": [
        {
          "output_type": "execute_result",
          "data": {
            "text/plain": [
              "   whether_home_wins    HC        AC   HST       AST   HY   AY   HR   AR  \\\n",
              "0                  1  1.00 -0.333333  1.50 -0.333333  0.0 -0.5  0.0  0.0   \n",
              "1                  1  0.25  1.333333  0.75 -0.666667 -0.5  0.5  0.0  0.0   \n",
              "2                  0  1.50 -0.666667  0.00 -1.000000  0.0 -0.5  0.0  1.0   \n",
              "3                  1  0.00 -0.333333 -0.25 -1.000000  0.0  1.5  0.0  0.0   \n",
              "4                  1 -0.50  0.333333 -0.25 -0.333333  1.0  0.5  0.0  0.0   \n",
              "\n",
              "   HomeTeam_Almeria  ...  AwayTeam_Sevilla  AwayTeam_Sociedad  \\\n",
              "0                 0  ...                 0                  0   \n",
              "1                 0  ...                 0                  0   \n",
              "2                 1  ...                 0                  0   \n",
              "3                 0  ...                 0                  0   \n",
              "4                 0  ...                 0                  0   \n",
              "\n",
              "   AwayTeam_Sp Gijon  AwayTeam_Tenerife  AwayTeam_Valencia  \\\n",
              "0                  0                  0                  0   \n",
              "1                  0                  1                  0   \n",
              "2                  0                  0                  0   \n",
              "3                  0                  0                  0   \n",
              "4                  0                  0                  0   \n",
              "\n",
              "   AwayTeam_Valladolid  AwayTeam_Vallecano  AwayTeam_Villarreal  \\\n",
              "0                    0                   0                    0   \n",
              "1                    0                   0                    0   \n",
              "2                    1                   0                    0   \n",
              "3                    0                   0                    0   \n",
              "4                    0                   0                    0   \n",
              "\n",
              "   AwayTeam_Xerez  AwayTeam_Zaragoza  \n",
              "0               0                  0  \n",
              "1               0                  0  \n",
              "2               0                  0  \n",
              "3               0                  0  \n",
              "4               0                  0  \n",
              "\n",
              "[5 rows x 77 columns]"
            ],
            "text/html": [
              "\n",
              "  <div id=\"df-1f311536-4fec-43a4-98c9-21d231cf8c09\">\n",
              "    <div class=\"colab-df-container\">\n",
              "      <div>\n",
              "<style scoped>\n",
              "    .dataframe tbody tr th:only-of-type {\n",
              "        vertical-align: middle;\n",
              "    }\n",
              "\n",
              "    .dataframe tbody tr th {\n",
              "        vertical-align: top;\n",
              "    }\n",
              "\n",
              "    .dataframe thead th {\n",
              "        text-align: right;\n",
              "    }\n",
              "</style>\n",
              "<table border=\"1\" class=\"dataframe\">\n",
              "  <thead>\n",
              "    <tr style=\"text-align: right;\">\n",
              "      <th></th>\n",
              "      <th>whether_home_wins</th>\n",
              "      <th>HC</th>\n",
              "      <th>AC</th>\n",
              "      <th>HST</th>\n",
              "      <th>AST</th>\n",
              "      <th>HY</th>\n",
              "      <th>AY</th>\n",
              "      <th>HR</th>\n",
              "      <th>AR</th>\n",
              "      <th>HomeTeam_Almeria</th>\n",
              "      <th>...</th>\n",
              "      <th>AwayTeam_Sevilla</th>\n",
              "      <th>AwayTeam_Sociedad</th>\n",
              "      <th>AwayTeam_Sp Gijon</th>\n",
              "      <th>AwayTeam_Tenerife</th>\n",
              "      <th>AwayTeam_Valencia</th>\n",
              "      <th>AwayTeam_Valladolid</th>\n",
              "      <th>AwayTeam_Vallecano</th>\n",
              "      <th>AwayTeam_Villarreal</th>\n",
              "      <th>AwayTeam_Xerez</th>\n",
              "      <th>AwayTeam_Zaragoza</th>\n",
              "    </tr>\n",
              "  </thead>\n",
              "  <tbody>\n",
              "    <tr>\n",
              "      <th>0</th>\n",
              "      <td>1</td>\n",
              "      <td>1.00</td>\n",
              "      <td>-0.333333</td>\n",
              "      <td>1.50</td>\n",
              "      <td>-0.333333</td>\n",
              "      <td>0.0</td>\n",
              "      <td>-0.5</td>\n",
              "      <td>0.0</td>\n",
              "      <td>0.0</td>\n",
              "      <td>0</td>\n",
              "      <td>...</td>\n",
              "      <td>0</td>\n",
              "      <td>0</td>\n",
              "      <td>0</td>\n",
              "      <td>0</td>\n",
              "      <td>0</td>\n",
              "      <td>0</td>\n",
              "      <td>0</td>\n",
              "      <td>0</td>\n",
              "      <td>0</td>\n",
              "      <td>0</td>\n",
              "    </tr>\n",
              "    <tr>\n",
              "      <th>1</th>\n",
              "      <td>1</td>\n",
              "      <td>0.25</td>\n",
              "      <td>1.333333</td>\n",
              "      <td>0.75</td>\n",
              "      <td>-0.666667</td>\n",
              "      <td>-0.5</td>\n",
              "      <td>0.5</td>\n",
              "      <td>0.0</td>\n",
              "      <td>0.0</td>\n",
              "      <td>0</td>\n",
              "      <td>...</td>\n",
              "      <td>0</td>\n",
              "      <td>0</td>\n",
              "      <td>0</td>\n",
              "      <td>1</td>\n",
              "      <td>0</td>\n",
              "      <td>0</td>\n",
              "      <td>0</td>\n",
              "      <td>0</td>\n",
              "      <td>0</td>\n",
              "      <td>0</td>\n",
              "    </tr>\n",
              "    <tr>\n",
              "      <th>2</th>\n",
              "      <td>0</td>\n",
              "      <td>1.50</td>\n",
              "      <td>-0.666667</td>\n",
              "      <td>0.00</td>\n",
              "      <td>-1.000000</td>\n",
              "      <td>0.0</td>\n",
              "      <td>-0.5</td>\n",
              "      <td>0.0</td>\n",
              "      <td>1.0</td>\n",
              "      <td>1</td>\n",
              "      <td>...</td>\n",
              "      <td>0</td>\n",
              "      <td>0</td>\n",
              "      <td>0</td>\n",
              "      <td>0</td>\n",
              "      <td>0</td>\n",
              "      <td>1</td>\n",
              "      <td>0</td>\n",
              "      <td>0</td>\n",
              "      <td>0</td>\n",
              "      <td>0</td>\n",
              "    </tr>\n",
              "    <tr>\n",
              "      <th>3</th>\n",
              "      <td>1</td>\n",
              "      <td>0.00</td>\n",
              "      <td>-0.333333</td>\n",
              "      <td>-0.25</td>\n",
              "      <td>-1.000000</td>\n",
              "      <td>0.0</td>\n",
              "      <td>1.5</td>\n",
              "      <td>0.0</td>\n",
              "      <td>0.0</td>\n",
              "      <td>0</td>\n",
              "      <td>...</td>\n",
              "      <td>0</td>\n",
              "      <td>0</td>\n",
              "      <td>0</td>\n",
              "      <td>0</td>\n",
              "      <td>0</td>\n",
              "      <td>0</td>\n",
              "      <td>0</td>\n",
              "      <td>0</td>\n",
              "      <td>0</td>\n",
              "      <td>0</td>\n",
              "    </tr>\n",
              "    <tr>\n",
              "      <th>4</th>\n",
              "      <td>1</td>\n",
              "      <td>-0.50</td>\n",
              "      <td>0.333333</td>\n",
              "      <td>-0.25</td>\n",
              "      <td>-0.333333</td>\n",
              "      <td>1.0</td>\n",
              "      <td>0.5</td>\n",
              "      <td>0.0</td>\n",
              "      <td>0.0</td>\n",
              "      <td>0</td>\n",
              "      <td>...</td>\n",
              "      <td>0</td>\n",
              "      <td>0</td>\n",
              "      <td>0</td>\n",
              "      <td>0</td>\n",
              "      <td>0</td>\n",
              "      <td>0</td>\n",
              "      <td>0</td>\n",
              "      <td>0</td>\n",
              "      <td>0</td>\n",
              "      <td>0</td>\n",
              "    </tr>\n",
              "  </tbody>\n",
              "</table>\n",
              "<p>5 rows × 77 columns</p>\n",
              "</div>\n",
              "      <button class=\"colab-df-convert\" onclick=\"convertToInteractive('df-1f311536-4fec-43a4-98c9-21d231cf8c09')\"\n",
              "              title=\"Convert this dataframe to an interactive table.\"\n",
              "              style=\"display:none;\">\n",
              "        \n",
              "  <svg xmlns=\"http://www.w3.org/2000/svg\" height=\"24px\"viewBox=\"0 0 24 24\"\n",
              "       width=\"24px\">\n",
              "    <path d=\"M0 0h24v24H0V0z\" fill=\"none\"/>\n",
              "    <path d=\"M18.56 5.44l.94 2.06.94-2.06 2.06-.94-2.06-.94-.94-2.06-.94 2.06-2.06.94zm-11 1L8.5 8.5l.94-2.06 2.06-.94-2.06-.94L8.5 2.5l-.94 2.06-2.06.94zm10 10l.94 2.06.94-2.06 2.06-.94-2.06-.94-.94-2.06-.94 2.06-2.06.94z\"/><path d=\"M17.41 7.96l-1.37-1.37c-.4-.4-.92-.59-1.43-.59-.52 0-1.04.2-1.43.59L10.3 9.45l-7.72 7.72c-.78.78-.78 2.05 0 2.83L4 21.41c.39.39.9.59 1.41.59.51 0 1.02-.2 1.41-.59l7.78-7.78 2.81-2.81c.8-.78.8-2.07 0-2.86zM5.41 20L4 18.59l7.72-7.72 1.47 1.35L5.41 20z\"/>\n",
              "  </svg>\n",
              "      </button>\n",
              "      \n",
              "  <style>\n",
              "    .colab-df-container {\n",
              "      display:flex;\n",
              "      flex-wrap:wrap;\n",
              "      gap: 12px;\n",
              "    }\n",
              "\n",
              "    .colab-df-convert {\n",
              "      background-color: #E8F0FE;\n",
              "      border: none;\n",
              "      border-radius: 50%;\n",
              "      cursor: pointer;\n",
              "      display: none;\n",
              "      fill: #1967D2;\n",
              "      height: 32px;\n",
              "      padding: 0 0 0 0;\n",
              "      width: 32px;\n",
              "    }\n",
              "\n",
              "    .colab-df-convert:hover {\n",
              "      background-color: #E2EBFA;\n",
              "      box-shadow: 0px 1px 2px rgba(60, 64, 67, 0.3), 0px 1px 3px 1px rgba(60, 64, 67, 0.15);\n",
              "      fill: #174EA6;\n",
              "    }\n",
              "\n",
              "    [theme=dark] .colab-df-convert {\n",
              "      background-color: #3B4455;\n",
              "      fill: #D2E3FC;\n",
              "    }\n",
              "\n",
              "    [theme=dark] .colab-df-convert:hover {\n",
              "      background-color: #434B5C;\n",
              "      box-shadow: 0px 1px 3px 1px rgba(0, 0, 0, 0.15);\n",
              "      filter: drop-shadow(0px 1px 2px rgba(0, 0, 0, 0.3));\n",
              "      fill: #FFFFFF;\n",
              "    }\n",
              "  </style>\n",
              "\n",
              "      <script>\n",
              "        const buttonEl =\n",
              "          document.querySelector('#df-1f311536-4fec-43a4-98c9-21d231cf8c09 button.colab-df-convert');\n",
              "        buttonEl.style.display =\n",
              "          google.colab.kernel.accessAllowed ? 'block' : 'none';\n",
              "\n",
              "        async function convertToInteractive(key) {\n",
              "          const element = document.querySelector('#df-1f311536-4fec-43a4-98c9-21d231cf8c09');\n",
              "          const dataTable =\n",
              "            await google.colab.kernel.invokeFunction('convertToInteractive',\n",
              "                                                     [key], {});\n",
              "          if (!dataTable) return;\n",
              "\n",
              "          const docLinkHtml = 'Like what you see? Visit the ' +\n",
              "            '<a target=\"_blank\" href=https://colab.research.google.com/notebooks/data_table.ipynb>data table notebook</a>'\n",
              "            + ' to learn more about interactive tables.';\n",
              "          element.innerHTML = '';\n",
              "          dataTable['output_type'] = 'display_data';\n",
              "          await google.colab.output.renderOutput(dataTable, element);\n",
              "          const docLink = document.createElement('div');\n",
              "          docLink.innerHTML = docLinkHtml;\n",
              "          element.appendChild(docLink);\n",
              "        }\n",
              "      </script>\n",
              "    </div>\n",
              "  </div>\n",
              "  "
            ]
          },
          "metadata": {},
          "execution_count": 227
        }
      ]
    },
    {
      "cell_type": "code",
      "source": [
        "X = dataset.drop(columns=['whether_home_wins'])\n",
        "y = dataset.loc[:,'whether_home_wins']"
      ],
      "metadata": {
        "id": "JU2RdcoR1xJF"
      },
      "execution_count": 228,
      "outputs": []
    },
    {
      "cell_type": "code",
      "source": [
        "from sklearn.model_selection import train_test_split\n",
        "\n",
        "# Shuffle and split the dataset into training and testing set.\n",
        "X_train, X_test, y_train, y_test = train_test_split(X, y, test_size = 0.3, random_state = 2, stratify = y)"
      ],
      "metadata": {
        "id": "nJ2bJdBJJlip"
      },
      "execution_count": 229,
      "outputs": []
    },
    {
      "cell_type": "markdown",
      "source": [
        "Logistic Regression (Choose C)"
      ],
      "metadata": {
        "id": "sYE_4onqT8Vc"
      }
    },
    {
      "cell_type": "code",
      "source": [
        "import matplotlib.pyplot as plt\n",
        "import matplotlib\n",
        "import seaborn as sns\n",
        "from sklearn.linear_model import LogisticRegression\n",
        "from sklearn.svm import LinearSVC\n",
        "from sklearn.preprocessing import PolynomialFeatures\n",
        "from sklearn.linear_model import Ridge\n",
        "from sklearn.linear_model import Lasso\n",
        "from sklearn.model_selection import KFold\n",
        "from sklearn.metrics import mean_squared_error\n",
        "\n",
        "def LogisticRegression_C():\n",
        "#     set a raneg for the value of C\n",
        "  C_range = [0.5, 1, 5, 10, 25, 50, 75, 100]\n",
        "\n",
        "  mean_error=[]\n",
        "  std_error=[]\n",
        "  for Ci in C_range:\n",
        "\n",
        "    model = LogisticRegression(penalty = 'l2', C = Ci)\n",
        "    temp = []\n",
        "#   use cross validation to calculate the MSE\n",
        "    kf = KFold(n_splits = 5)\n",
        "    for train,test in kf.split(X):\n",
        "      model.fit(np.array(X)[train], np.array(y)[train])\n",
        "      ypred = model.predict(np.array(X)[test])\n",
        "      temp.append(mean_squared_error(y[test], ypred))\n",
        "    mean_error.append(np.array(temp).mean())\n",
        "    std_error.append(np.array(temp).std())\n",
        "# plot the MSE with various C\n",
        "  fig = plt.figure(figsize = (20, 10))\n",
        "  plt.errorbar(C_range, mean_error, yerr = std_error)\n",
        "  plt.xlabel('C value')\n",
        "  plt.ylabel('Mean squared error')\n",
        "  plt.xlim((0,100))\n",
        "  plt.show()\n",
        "    \n",
        "LogisticRegression_C()"
      ],
      "metadata": {
        "colab": {
          "base_uri": "https://localhost:8080/",
          "height": 606
        },
        "id": "VlC6loKLUCF3",
        "outputId": "eb2af85c-4d1b-4e04-82dd-0314270ff790"
      },
      "execution_count": 230,
      "outputs": [
        {
          "output_type": "display_data",
          "data": {
            "text/plain": [
              "<Figure size 1440x720 with 1 Axes>"
            ],
            "image/png": "[encoded data removed]"
          },
          "metadata": {
            "needs_background": "light"
          }
        }
      ]
    },
    {
      "cell_type": "markdown",
      "source": [
        "Logistic Regression with C = 5"
      ],
      "metadata": {
        "id": "jm4_G3IVLXcz"
      }
    },
    {
      "cell_type": "code",
      "source": [
        "# Fitting Logistic Regression to the Training set\n",
        "from sklearn.linear_model import LogisticRegression\n",
        "classifier_LR = LogisticRegression(penalty = 'l2', C = 5)\n",
        "classifier_LR.fit(X_train, y_train)"
      ],
      "metadata": {
        "colab": {
          "base_uri": "https://localhost:8080/"
        },
        "id": "DpX-HUfHKLrS",
        "outputId": "b0df3aea-2bf4-415f-8262-8313b127392e"
      },
      "execution_count": 231,
      "outputs": [
        {
          "output_type": "execute_result",
          "data": {
            "text/plain": [
              "LogisticRegression(C=5)"
            ]
          },
          "metadata": {},
          "execution_count": 231
        }
      ]
    },
    {
      "cell_type": "code",
      "source": [
        "y_pred_lr = classifier_LR.predict(X_test)"
      ],
      "metadata": {
        "id": "RDIK2Dn12Rxe"
      },
      "execution_count": 232,
      "outputs": []
    },
    {
      "cell_type": "code",
      "source": [
        "from sklearn.metrics import confusion_matrix, classification_report\n",
        "cm = confusion_matrix(y_test, y_pred_lr)"
      ],
      "metadata": {
        "id": "WspzLO9l2TFd"
      },
      "execution_count": 233,
      "outputs": []
    },
    {
      "cell_type": "code",
      "source": [
        "sns.heatmap(cm, annot=True,fmt='d',cmap=\"crest\")\n",
        "plt.show()"
      ],
      "metadata": {
        "colab": {
          "base_uri": "https://localhost:8080/",
          "height": 265
        },
        "id": "d2Ra1QOd2TIB",
        "outputId": "e4690121-99a6-4b68-80d3-dce400e39125"
      },
      "execution_count": 234,
      "outputs": [
        {
          "output_type": "display_data",
          "data": {
            "text/plain": [
              "<Figure size 432x288 with 2 Axes>"
            ],
            "image/png": "[encoded data removed]"
          },
          "metadata": {
            "needs_background": "light"
          }
        }
      ]
    },
    {
      "cell_type": "code",
      "source": [
        "print(classification_report(y_test, y_pred_lr))"
      ],
      "metadata": {
        "colab": {
          "base_uri": "https://localhost:8080/"
        },
        "id": "BlP61Cj_2TKX",
        "outputId": "3c87894e-0716-47ef-fe69-f2a6934cf3bf"
      },
      "execution_count": 235,
      "outputs": [
        {
          "output_type": "stream",
          "name": "stdout",
          "text": [
            "              precision    recall  f1-score   support\n",
            "\n",
            "           0       0.73      0.78      0.75       591\n",
            "           1       0.74      0.69      0.72       549\n",
            "\n",
            "    accuracy                           0.74      1140\n",
            "   macro avg       0.74      0.74      0.74      1140\n",
            "weighted avg       0.74      0.74      0.74      1140\n",
            "\n"
          ]
        }
      ]
    },
    {
      "cell_type": "markdown",
      "source": [
        "SVM (Choose C)"
      ],
      "metadata": {
        "id": "OcXrxxFKqQWT"
      }
    },
    {
      "cell_type": "code",
      "source": [
        "import matplotlib.pyplot as plt\n",
        "import matplotlib\n",
        "import seaborn as sns\n",
        "from sklearn.linear_model import LogisticRegression\n",
        "from sklearn.svm import LinearSVC\n",
        "from sklearn.preprocessing import PolynomialFeatures\n",
        "from sklearn.linear_model import Ridge\n",
        "from sklearn.linear_model import Lasso\n",
        "from sklearn.model_selection import KFold\n",
        "from sklearn.metrics import mean_squared_error\n",
        "\n",
        "def SVM_C():\n",
        "#     set a raneg for the value of C\n",
        "  C_range = [0.5, 1, 5, 10, 25, 50, 75, 100]\n",
        "\n",
        "  mean_error=[]\n",
        "  std_error=[]\n",
        "  for Ci in C_range:\n",
        "    # svm.SVC(probability=True)\n",
        "    model = svm.SVC(probability=True, C = Ci)\n",
        "    temp = []\n",
        "#   use cross validation to calculate the MSE\n",
        "    kf = KFold(n_splits = 5)\n",
        "    for train,test in kf.split(X):\n",
        "      model.fit(np.array(X)[train], np.array(y)[train])\n",
        "      ypred = model.predict(np.array(X)[test])\n",
        "      temp.append(mean_squared_error(y[test], ypred))\n",
        "    mean_error.append(np.array(temp).mean())\n",
        "    std_error.append(np.array(temp).std())\n",
        "# plot the MSE with various C\n",
        "  fig = plt.figure(figsize = (20,10))\n",
        "  plt.errorbar(C_range, mean_error, yerr = std_error)\n",
        "  plt.xlabel('C value')\n",
        "  plt.ylabel('Mean squared error')\n",
        "  plt.xlim((0,100))\n",
        "  plt.show()\n",
        "    \n",
        "SVM_C()"
      ],
      "metadata": {
        "id": "hfEVJn6SUCRC",
        "colab": {
          "base_uri": "https://localhost:8080/",
          "height": 606
        },
        "outputId": "5d4ddf39-2d4b-4e89-bf93-3f59e911b849"
      },
      "execution_count": 236,
      "outputs": [
        {
          "output_type": "display_data",
          "data": {
            "text/plain": [
              "<Figure size 1440x720 with 1 Axes>"
            ],
            "image/png": "[encoded data removed]"
          },
          "metadata": {
            "needs_background": "light"
          }
        }
      ]
    },
    {
      "cell_type": "markdown",
      "source": [
        "SVM with C = 10"
      ],
      "metadata": {
        "id": "HVYMohGIozTB"
      }
    },
    {
      "cell_type": "code",
      "source": [
        "# Fitting Logistic Regression to the Training set\n",
        "from sklearn.svm import LinearSVC\n",
        "classifier_SVM = svm.SVC(probability=True, C = 10)\n",
        "classifier_SVM.fit(X_train, y_train)"
      ],
      "metadata": {
        "id": "bFh2JRGyo-wH",
        "colab": {
          "base_uri": "https://localhost:8080/"
        },
        "outputId": "bb4eb1f0-9251-444b-e933-d548263f4403"
      },
      "execution_count": 237,
      "outputs": [
        {
          "output_type": "execute_result",
          "data": {
            "text/plain": [
              "SVC(C=10, probability=True)"
            ]
          },
          "metadata": {},
          "execution_count": 237
        }
      ]
    },
    {
      "cell_type": "code",
      "source": [
        "y_pred_svm = classifier_SVM.predict(X_test)"
      ],
      "metadata": {
        "id": "bDg9d2tZo-09"
      },
      "execution_count": 238,
      "outputs": []
    },
    {
      "cell_type": "code",
      "source": [
        "from sklearn.metrics import confusion_matrix, classification_report\n",
        "cm = confusion_matrix(y_test, y_pred_svm)\n",
        "sns.heatmap(cm, annot=True, fmt = 'd',cmap=\"crest\")"
      ],
      "metadata": {
        "id": "n2ObN-R5UCdx",
        "colab": {
          "base_uri": "https://localhost:8080/",
          "height": 283
        },
        "outputId": "87feb5ef-b483-4560-9092-b1aa70fb35a9"
      },
      "execution_count": 239,
      "outputs": [
        {
          "output_type": "execute_result",
          "data": {
            "text/plain": [
              "<matplotlib.axes._subplots.AxesSubplot at 0x7f1badf1a670>"
            ]
          },
          "metadata": {},
          "execution_count": 239
        },
        {
          "output_type": "display_data",
          "data": {
            "text/plain": [
              "<Figure size 432x288 with 2 Axes>"
            ],
            "image/png": "[encoded data removed]"
          },
          "metadata": {
            "needs_background": "light"
          }
        }
      ]
    },
    {
      "cell_type": "code",
      "source": [
        "print(classification_report(y_test, y_pred_svm))"
      ],
      "metadata": {
        "id": "tOGojRdqo4xz",
        "colab": {
          "base_uri": "https://localhost:8080/"
        },
        "outputId": "2f74f5eb-7932-475a-cad1-0f7bb52b2e25"
      },
      "execution_count": 240,
      "outputs": [
        {
          "output_type": "stream",
          "name": "stdout",
          "text": [
            "              precision    recall  f1-score   support\n",
            "\n",
            "           0       0.70      0.70      0.70       591\n",
            "           1       0.67      0.68      0.67       549\n",
            "\n",
            "    accuracy                           0.69      1140\n",
            "   macro avg       0.69      0.69      0.69      1140\n",
            "weighted avg       0.69      0.69      0.69      1140\n",
            "\n"
          ]
        }
      ]
    },
    {
      "cell_type": "markdown",
      "source": [
        "Random Forest (Choose Max Depth)"
      ],
      "metadata": {
        "id": "G2TeL1P7HBdT"
      }
    },
    {
      "cell_type": "code",
      "source": [
        "from sklearn.linear_model import LogisticRegression\n",
        "from sklearn.ensemble import RandomForestClassifier\n",
        "from sklearn import naive_bayes\n",
        "from sklearn import linear_model\n",
        "from sklearn import svm\n"
      ],
      "metadata": {
        "id": "jVShoJdV2TNf"
      },
      "execution_count": 241,
      "outputs": []
    },
    {
      "cell_type": "code",
      "source": [
        "from sklearn.ensemble import RandomForestClassifier\n",
        "from sklearn.model_selection import KFold\n",
        "from sklearn.metrics import mean_squared_error\n",
        "def RF_Max_Depth():\n",
        "#     set a raneg for the value of max depth\n",
        "  MAX_DEPTH_OPTIONS = [2, 4, 6, 8, 10, 12, 14]\n",
        "\n",
        "  mean_error=[]\n",
        "  std_error=[]\n",
        "  for md_i in MAX_DEPTH_OPTIONS:\n",
        "    # svm.SVC(probability=True)\n",
        "    model = RandomForestClassifier(max_depth = md_i)\n",
        "    temp = []\n",
        "#   use cross validation to calculate the MSE\n",
        "    kf = KFold(n_splits = 5)\n",
        "    for train,test in kf.split(X):\n",
        "      model.fit(np.array(X)[train], np.array(y)[train])\n",
        "      ypred = model.predict(np.array(X)[test])\n",
        "      temp.append(mean_squared_error(y[test], ypred))\n",
        "    mean_error.append(np.array(temp).mean())\n",
        "    std_error.append(np.array(temp).std())\n",
        "# plot the MSE with various max depths\n",
        "  fig = plt.figure(figsize = (20, 10))\n",
        "  plt.errorbar(MAX_DEPTH_OPTIONS, mean_error, yerr = std_error)\n",
        "  plt.xlabel('MAX_DEPTH_OPTIONS')\n",
        "  plt.ylabel('Mean squared error')\n",
        "  plt.xlim((0,15))\n",
        "  plt.show()\n",
        "    \n",
        "RF_Max_Depth()"
      ],
      "metadata": {
        "id": "RY-G_ntAuEyi",
        "colab": {
          "base_uri": "https://localhost:8080/",
          "height": 607
        },
        "outputId": "072d18fb-51d1-4ca2-e41e-885addc01f72"
      },
      "execution_count": 242,
      "outputs": [
        {
          "output_type": "display_data",
          "data": {
            "text/plain": [
              "<Figure size 1440x720 with 1 Axes>"
            ],
            "image/png": "[encoded data removed]"
          },
          "metadata": {
            "needs_background": "light"
          }
        }
      ]
    },
    {
      "cell_type": "markdown",
      "source": [
        "Random Forest with max depth = 12"
      ],
      "metadata": {
        "id": "mTbVvD3jpvpa"
      }
    },
    {
      "cell_type": "code",
      "source": [
        "classifier_RF = RandomForestClassifier(max_depth = 12)\n",
        "classifier_RF.fit(X_train, y_train)"
      ],
      "metadata": {
        "id": "l_go3rRcps2q",
        "colab": {
          "base_uri": "https://localhost:8080/"
        },
        "outputId": "9ed1fd41-99d8-4df3-8d12-f082ea45057e"
      },
      "execution_count": 243,
      "outputs": [
        {
          "output_type": "execute_result",
          "data": {
            "text/plain": [
              "RandomForestClassifier(max_depth=12)"
            ]
          },
          "metadata": {},
          "execution_count": 243
        }
      ]
    },
    {
      "cell_type": "code",
      "source": [
        "y_pred_rf = classifier_RF.predict(X_test)"
      ],
      "metadata": {
        "id": "7Xx3bmle2TPu"
      },
      "execution_count": 244,
      "outputs": []
    },
    {
      "cell_type": "code",
      "source": [
        "cm = confusion_matrix(y_test, y_pred_rf)\n",
        "sns.heatmap(cm, annot=True, fmt='d',cmap=\"crest\")\n",
        "plt.show()"
      ],
      "metadata": {
        "id": "WdAJXvrHQkSV",
        "colab": {
          "base_uri": "https://localhost:8080/",
          "height": 265
        },
        "outputId": "631c54f1-67f5-470c-f20d-d5b9d887b851"
      },
      "execution_count": 245,
      "outputs": [
        {
          "output_type": "display_data",
          "data": {
            "text/plain": [
              "<Figure size 432x288 with 2 Axes>"
            ],
            "image/png": "[encoded data removed]"
          },
          "metadata": {
            "needs_background": "light"
          }
        }
      ]
    },
    {
      "cell_type": "code",
      "source": [
        "print(classification_report(y_test, y_pred_rf))"
      ],
      "metadata": {
        "id": "PLlTvqUBQkYP",
        "colab": {
          "base_uri": "https://localhost:8080/"
        },
        "outputId": "acf5b782-1ceb-47e2-cb4b-e6fc47c34f5e"
      },
      "execution_count": 246,
      "outputs": [
        {
          "output_type": "stream",
          "name": "stdout",
          "text": [
            "              precision    recall  f1-score   support\n",
            "\n",
            "           0       0.71      0.74      0.73       591\n",
            "           1       0.71      0.68      0.70       549\n",
            "\n",
            "    accuracy                           0.71      1140\n",
            "   macro avg       0.71      0.71      0.71      1140\n",
            "weighted avg       0.71      0.71      0.71      1140\n",
            "\n"
          ]
        }
      ]
    },
    {
      "cell_type": "markdown",
      "source": [
        "KNN"
      ],
      "metadata": {
        "id": "6tkxyGwQqsMx"
      }
    },
    {
      "cell_type": "code",
      "source": [
        "from sklearn.neighbors import KNeighborsClassifier\n",
        "from sklearn.metrics import roc_curve\n",
        "from sklearn.metrics import confusion_matrix\n",
        "from sklearn.metrics import roc_auc_score\n",
        "\n",
        "\n",
        "def KNN():\n",
        "#     set a range for k\n",
        "    K_range = [1, 5, 9, 15, 21, 41, 61, 81]\n",
        "    mean_error = []\n",
        "    std_error = []\n",
        "    for Ki in K_range:\n",
        "        knn = KNeighborsClassifier(n_neighbors = Ki)\n",
        "        temp = []\n",
        "#         use 5-folds cross validation\n",
        "        kf = KFold(n_splits = 5)\n",
        "        for train, test in kf.split(X):\n",
        "            knn.fit(np.array(X)[train], np.array(y)[train])\n",
        "            ypred = knn.predict(np.array(X)[test])\n",
        "            temp.append(mean_squared_error(y[test], ypred))\n",
        "        mean_error.append(np.array(temp).mean())\n",
        "        std_error.append(np.array(temp).std())\n",
        "        y_pred_proba = knn.predict_proba(X_test)[:,1]\n",
        "\n",
        "# plot the MSE\n",
        "    fig = plt.figure(figsize = (20, 10))\n",
        "    plt.errorbar(K_range, mean_error, yerr = std_error)\n",
        "    plt.xlabel('K')\n",
        "    plt.ylabel('Mean squared error')\n",
        "    plt.xlim((0,100))\n",
        "    plt.show()\n",
        "\n",
        "KNN()"
      ],
      "metadata": {
        "id": "2Ybd3RX7Qka5",
        "colab": {
          "base_uri": "https://localhost:8080/",
          "height": 606
        },
        "outputId": "bfe7f1d8-d71e-498e-f91d-9ada4cd196ca"
      },
      "execution_count": 247,
      "outputs": [
        {
          "output_type": "display_data",
          "data": {
            "text/plain": [
              "<Figure size 1440x720 with 1 Axes>"
            ],
            "image/png": "[encoded data removed]"
          },
          "metadata": {
            "needs_background": "light"
          }
        }
      ]
    },
    {
      "cell_type": "markdown",
      "source": [
        "KNN with K = 61"
      ],
      "metadata": {
        "id": "iIjbxcqstyQ5"
      }
    },
    {
      "cell_type": "code",
      "source": [
        "classifier_KNN = KNeighborsClassifier(n_neighbors = 61)\n",
        "classifier_KNN.fit(X_train, y_train)"
      ],
      "metadata": {
        "id": "pCznNd1Wtz-R",
        "colab": {
          "base_uri": "https://localhost:8080/"
        },
        "outputId": "a1067589-6181-4e9e-dd3c-0b78b5f01ec0"
      },
      "execution_count": 248,
      "outputs": [
        {
          "output_type": "execute_result",
          "data": {
            "text/plain": [
              "KNeighborsClassifier(n_neighbors=61)"
            ]
          },
          "metadata": {},
          "execution_count": 248
        }
      ]
    },
    {
      "cell_type": "code",
      "source": [
        "y_pred_knn = classifier_KNN.predict(X_test)"
      ],
      "metadata": {
        "id": "aRtTWU42t3lA"
      },
      "execution_count": 249,
      "outputs": []
    },
    {
      "cell_type": "code",
      "source": [
        "cm = confusion_matrix(y_test, y_pred_knn)\n",
        "sns.heatmap(cm, annot = True, fmt = 'd',cmap=\"crest\") "
      ],
      "metadata": {
        "id": "xCCf9Afot3nd",
        "colab": {
          "base_uri": "https://localhost:8080/",
          "height": 283
        },
        "outputId": "8d42566c-6965-4f07-f56a-e326d85c974d"
      },
      "execution_count": 250,
      "outputs": [
        {
          "output_type": "execute_result",
          "data": {
            "text/plain": [
              "<matplotlib.axes._subplots.AxesSubplot at 0x7f1ba97430d0>"
            ]
          },
          "metadata": {},
          "execution_count": 250
        },
        {
          "output_type": "display_data",
          "data": {
            "text/plain": [
              "<Figure size 432x288 with 2 Axes>"
            ],
            "image/png": "[encoded data removed]"
          },
          "metadata": {
            "needs_background": "light"
          }
        }
      ]
    },
    {
      "cell_type": "code",
      "source": [
        "print(classification_report(y_test, y_pred_knn))"
      ],
      "metadata": {
        "id": "YkZS8IZnt3pN",
        "colab": {
          "base_uri": "https://localhost:8080/"
        },
        "outputId": "0627be9d-7ec6-4294-d3f6-97b5973d4a52"
      },
      "execution_count": 251,
      "outputs": [
        {
          "output_type": "stream",
          "name": "stdout",
          "text": [
            "              precision    recall  f1-score   support\n",
            "\n",
            "           0       0.73      0.74      0.73       591\n",
            "           1       0.71      0.71      0.71       549\n",
            "\n",
            "    accuracy                           0.72      1140\n",
            "   macro avg       0.72      0.72      0.72      1140\n",
            "weighted avg       0.72      0.72      0.72      1140\n",
            "\n"
          ]
        }
      ]
    },
    {
      "cell_type": "markdown",
      "source": [
        "Baseline Model"
      ],
      "metadata": {
        "id": "CDtWcfY6uJu2"
      }
    },
    {
      "cell_type": "code",
      "source": [
        "from sklearn.dummy import DummyClassifier\n",
        "classifier_Baseline = DummyClassifier(strategy = \"most_frequent\")\n",
        "classifier_Baseline.fit(X_train, y_train)"
      ],
      "metadata": {
        "id": "CH4AnLBDuLC6",
        "colab": {
          "base_uri": "https://localhost:8080/"
        },
        "outputId": "2979de92-99ca-441d-889e-4252702bd591"
      },
      "execution_count": 252,
      "outputs": [
        {
          "output_type": "execute_result",
          "data": {
            "text/plain": [
              "DummyClassifier(strategy='most_frequent')"
            ]
          },
          "metadata": {},
          "execution_count": 252
        }
      ]
    },
    {
      "cell_type": "code",
      "source": [
        "y_pred_baseline = classifier_Baseline.predict(X_test)"
      ],
      "metadata": {
        "id": "SVg_rdPCuLIE"
      },
      "execution_count": 253,
      "outputs": []
    },
    {
      "cell_type": "code",
      "source": [
        "cm = confusion_matrix(y_test, y_pred_baseline)\n",
        "sns.heatmap(cm, annot = True, fmt = 'd',cmap=\"crest\") \n",
        "plt.show()"
      ],
      "metadata": {
        "id": "IShjeB6guLKU",
        "colab": {
          "base_uri": "https://localhost:8080/",
          "height": 265
        },
        "outputId": "f49bee7d-bacc-4bc1-9bde-74d1b5e99c69"
      },
      "execution_count": 254,
      "outputs": [
        {
          "output_type": "display_data",
          "data": {
            "text/plain": [
              "<Figure size 432x288 with 2 Axes>"
            ],
            "image/png": "[encoded data removed]"
          },
          "metadata": {
            "needs_background": "light"
          }
        }
      ]
    },
    {
      "cell_type": "code",
      "source": [
        "print(classification_report(y_test, y_pred_baseline))"
      ],
      "metadata": {
        "id": "HKKLEEuHvWRP",
        "colab": {
          "base_uri": "https://localhost:8080/"
        },
        "outputId": "ce18e5b4-353c-4c6e-9909-251de75d8153"
      },
      "execution_count": 255,
      "outputs": [
        {
          "output_type": "stream",
          "name": "stdout",
          "text": [
            "              precision    recall  f1-score   support\n",
            "\n",
            "           0       0.52      1.00      0.68       591\n",
            "           1       0.00      0.00      0.00       549\n",
            "\n",
            "    accuracy                           0.52      1140\n",
            "   macro avg       0.26      0.50      0.34      1140\n",
            "weighted avg       0.27      0.52      0.35      1140\n",
            "\n"
          ]
        }
      ]
    },
    {
      "cell_type": "markdown",
      "source": [
        "ROC Curves"
      ],
      "metadata": {
        "id": "D4xr9Lthv9Uz"
      }
    },
    {
      "cell_type": "code",
      "source": [
        "mean_fpr = np.linspace(start=0, stop=1, num=100)\n",
        "def evaluate_model(X_test, y_test, model):\n",
        "    _probabilities = model.predict_proba(X_test)[:, 1]\n",
        "    _predicted_values = model.predict(X_test)\n",
        "    _accuracy =accuracy_score(y_test, _predicted_values)    # compute accuracy\n",
        "    _precision, _recall, _f1_score, _ = precision_recall_fscore_support(y_test, _predicted_values, labels=[1])    # compute precision, recall and f1 score for class 1\n",
        "    _fpr, _tpr, _ = roc_curve(y_test, _probabilities)    \n",
        "    _tpr_transformed = np.array([np.interp(mean_fpr, _fpr, _tpr)])  \n",
        "    _auc = auc(_fpr, _tpr)   # compute the area under the curve according the aoc diagram   \n",
        "    return _accuracy, _precision[0], _recall[0], _f1_score[0], _tpr_transformed, _auc"
      ],
      "metadata": {
        "id": "EV9bghOLwA4e"
      },
      "execution_count": 256,
      "outputs": []
    },
    {
      "cell_type": "code",
      "source": [
        "SVM_accuracy, SVM_precision, SVM_recall, SVM_f1_score, SVM_tpr, SVM_auc = evaluate_model(X_test,y_test, classifier_SVM)\n",
        "RF_accuracy, RF_precision, RF_recall, RF_f1_score, RF_tpr, RF_auc = evaluate_model(X_test,y_test, classifier_RF)\n",
        "KNN_accuracy, KNN_precision, KNN_recall, KNN_f1_score, KNN_tpr, KNN_auc = evaluate_model(X_test,y_test, classifier_KNN)\n",
        "LR_accuracy, LR_precision, LR_recall, LR_f1_score, LR_tpr, LR_auc = evaluate_model(X_test,y_test, classifier_LR)"
      ],
      "metadata": {
        "id": "ihkJwgidlYnP"
      },
      "execution_count": 257,
      "outputs": []
    },
    {
      "cell_type": "code",
      "source": [
        "def ROC():\n",
        "    figure = plt.figure(figsize = (10,10))\n",
        "    # Logistic Regression Classifier\n",
        "    model_lr = LogisticRegression(penalty = 'l2', C = 5)\n",
        "    model_lr.fit(X_train, y_train)\n",
        "    pred_lr = model_lr.decision_function(X_test)\n",
        "    fpr, tpr, _= roc_curve(y_test, pred_lr)\n",
        "    plt.plot(fpr,tpr, color = 'b', label='Logistic Regression (AUC = %0.2f)' % (LR_auc))\n",
        "\n",
        "    # SVM Classifier\n",
        "    model_svm = svm.SVC(probability=True, C = 10)\n",
        "    model_svm.fit(X_train, y_train)\n",
        "    pred_svm = model_svm.decision_function(X_test)\n",
        "    fpr, tpr, _= roc_curve(y_test, pred_svm)\n",
        "    plt.plot(fpr,tpr, color = '#6495ED', label='SVM (AUC = %0.2f)' % (SVM_auc))\n",
        "\n",
        "    # Random Forest Classifier\n",
        "    model_rf = RandomForestClassifier(max_depth = 12)\n",
        "    model_rf.fit(X_train, y_train)\n",
        "    pred_rf = model_rf.predict_proba(X_test)\n",
        "    fpr, tpr, _= roc_curve(y_test, pred_rf[:, 1])\n",
        "    plt.plot(fpr,tpr, color = '#FFD700', label='Random Forest (AUC = %0.2f)' % (RF_auc))\n",
        "\n",
        "    # kNN Classifier\n",
        "    model_knn = KNeighborsClassifier(n_neighbors = 61)\n",
        "    model_knn.fit(X_train, y_train)\n",
        "    pred_knn = model_knn.predict_proba(X_test)\n",
        "    fpr, tpr, _= roc_curve(y_test, pred_knn[:, 1])\n",
        "    plt.plot(fpr, tpr, color = 'r', label='KNN (AUC = %0.2f)' % (KNN_auc))\n",
        "\n",
        "    # Baseline Classifier\n",
        "    model_bc = DummyClassifier(strategy = \"most_frequent\")\n",
        "    model_bc.fit(X_train, y_train)\n",
        "    pred_bc = model_bc.predict_proba(X_test)\n",
        "    fpr, tpr, _= roc_curve(y_test, pred_bc[:, 1])\n",
        "    \n",
        "    plt.plot(fpr, tpr, color = 'g', label = 'baseline model')\n",
        "    \n",
        "# plot the ROC curves\n",
        "    \n",
        "    plt.xlabel('False positive rate', fontsize=20)\n",
        "    plt.ylabel('True positive rate', fontsize=20)\n",
        "    plt.title('ROC Curve', fontsize=20)\n",
        "    plt.legend(loc=\"lower right\")\n",
        "\n",
        "    #plt.legend(['Logistic Regression', 'Random Forest', 'SVM',  'kNN', 'Baseline'])\n",
        "    plt.show()    \n",
        "\n",
        "ROC()"
      ],
      "metadata": {
        "colab": {
          "base_uri": "https://localhost:8080/",
          "height": 636
        },
        "id": "cJZRGlaW9mTF",
        "outputId": "16f0bfd5-789a-43bc-a328-543074ce6548"
      },
      "execution_count": 258,
      "outputs": [
        {
          "output_type": "display_data",
          "data": {
            "text/plain": [
              "<Figure size 720x720 with 1 Axes>"
            ],
            "image/png": "[encoded data removed]"
          },
          "metadata": {
            "needs_background": "light"
          }
        }
      ]
    },
    {
      "cell_type": "markdown",
      "source": [
        "Comparison"
      ],
      "metadata": {
        "id": "98CJl77lv_ly"
      }
    },
    {
      "cell_type": "code",
      "source": [
        "SVM_metrics = np.array([SVM_accuracy, SVM_precision, SVM_recall, SVM_f1_score])\n",
        "KNN_metrics = np.array([KNN_accuracy, KNN_precision, KNN_recall, KNN_f1_score])\n",
        "RF_metrics = np.array([RF_accuracy, RF_precision, RF_recall, RF_f1_score])\n",
        "LR_metrics = np.array([LR_accuracy, LR_precision, LR_recall, LR_f1_score])\n",
        "\n",
        "\n",
        "index = ['accuracy', 'precision', 'recall', 'F1-score']\n",
        "df_metrics = pd.DataFrame({'SVM': SVM_metrics, 'Random Forest': RF_metrics, 'KNN':KNN_metrics,'Logistic Regression':LR_metrics}, index=index)\n",
        "df_metrics.plot.bar(rot=0,color={\"SVM\": \"#4682B4\", \"Random Forest\": \"#87CEEB\",\"KNN\": \"#90EE90\",\"Logistic Regression\": \"#FFE4B5\" })\n",
        "plt.legend(loc=\"lower right\")\n",
        "plt.show()"
      ],
      "metadata": {
        "id": "WBm4g761n6IK",
        "colab": {
          "base_uri": "https://localhost:8080/",
          "height": 265
        },
        "outputId": "e540a7c2-2936-450a-ee46-2bab175bc741"
      },
      "execution_count": 259,
      "outputs": [
        {
          "output_type": "display_data",
          "data": {
            "text/plain": [
              "<Figure size 432x288 with 1 Axes>"
            ],
            "image/png": "[encoded data removed]"
          },
          "metadata": {
            "needs_background": "light"
          }
        }
      ]
    }
  ]
}